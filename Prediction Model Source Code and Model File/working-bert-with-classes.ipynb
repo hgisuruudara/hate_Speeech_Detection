{
 "cells": [
  {
   "cell_type": "code",
   "execution_count": 1,
   "id": "f42481b6",
   "metadata": {
    "execution": {
     "iopub.execute_input": "2022-05-22T09:22:49.537179Z",
     "iopub.status.busy": "2022-05-22T09:22:49.531309Z",
     "iopub.status.idle": "2022-05-22T09:22:56.870053Z",
     "shell.execute_reply": "2022-05-22T09:22:56.869480Z",
     "shell.execute_reply.started": "2022-04-27T10:24:06.521755Z"
    },
    "papermill": {
     "duration": 7.374434,
     "end_time": "2022-05-22T09:22:56.870242",
     "exception": false,
     "start_time": "2022-05-22T09:22:49.495808",
     "status": "completed"
    },
    "tags": []
   },
   "outputs": [],
   "source": [
    "# Load Huggingface transformers\n",
    "from transformers import TFBertModel,  BertConfig, BertTokenizerFast, TFAutoModel\n",
    "\n",
    "# Then what you need from tensorflow.keras\n",
    "from tensorflow.keras.layers import Input, Dropout, Dense, GlobalAveragePooling1D\n",
    "from tensorflow.keras.models import Model\n",
    "from tensorflow.keras.optimizers import Adam\n",
    "from tensorflow.keras.callbacks import EarlyStopping\n",
    "from tensorflow.keras.initializers import TruncatedNormal\n",
    "from tensorflow.keras.losses import CategoricalCrossentropy\n",
    "from tensorflow.keras.metrics import CategoricalAccuracy\n",
    "from tensorflow.keras.utils import to_categorical\n",
    "\n",
    "# And pandas for data import + sklearn because you allways need sklearn\n",
    "import pandas as pd\n",
    "import tensorflow as tf\n",
    "import re\n",
    "import numpy as np\n",
    "from sklearn.model_selection import train_test_split"
   ]
  },
  {
   "cell_type": "code",
   "execution_count": 2,
   "id": "269e7935",
   "metadata": {
    "execution": {
     "iopub.execute_input": "2022-05-22T09:22:56.922243Z",
     "iopub.status.busy": "2022-05-22T09:22:56.921229Z",
     "iopub.status.idle": "2022-05-22T09:22:56.926934Z",
     "shell.execute_reply": "2022-05-22T09:22:56.926485Z",
     "shell.execute_reply.started": "2022-04-27T10:24:13.525113Z"
    },
    "papermill": {
     "duration": 0.032597,
     "end_time": "2022-05-22T09:22:56.927050",
     "exception": false,
     "start_time": "2022-05-22T09:22:56.894453",
     "status": "completed"
    },
    "tags": []
   },
   "outputs": [
    {
     "name": "stdout",
     "output_type": "stream",
     "text": [
      "/kaggle/input/jigsaw-toxic-comment-classification-challenge/train.csv.zip\n",
      "/kaggle/input/jigsaw-toxic-comment-classification-challenge/sample_submission.csv.zip\n",
      "/kaggle/input/jigsaw-toxic-comment-classification-challenge/test_labels.csv.zip\n",
      "/kaggle/input/jigsaw-toxic-comment-classification-challenge/test.csv.zip\n"
     ]
    }
   ],
   "source": [
    "import os\n",
    "for dirname, _, filenames in os.walk('/kaggle/input'):\n",
    "    for filename in filenames:\n",
    "        print(os.path.join(dirname, filename))"
   ]
  },
  {
   "cell_type": "code",
   "execution_count": 3,
   "id": "a3667d34",
   "metadata": {
    "execution": {
     "iopub.execute_input": "2022-05-22T09:22:56.977406Z",
     "iopub.status.busy": "2022-05-22T09:22:56.976679Z",
     "iopub.status.idle": "2022-05-22T09:22:58.912879Z",
     "shell.execute_reply": "2022-05-22T09:22:58.911978Z",
     "shell.execute_reply.started": "2022-04-27T10:24:13.537453Z"
    },
    "papermill": {
     "duration": 1.963052,
     "end_time": "2022-05-22T09:22:58.913025",
     "exception": false,
     "start_time": "2022-05-22T09:22:56.949973",
     "status": "completed"
    },
    "tags": []
   },
   "outputs": [],
   "source": [
    "df=pd.read_csv('/kaggle/input/jigsaw-toxic-comment-classification-challenge/train.csv.zip')\n",
    "\n",
    "#df = df.sample(frac=1)\n",
    "#159571, 8"
   ]
  },
  {
   "cell_type": "code",
   "execution_count": 4,
   "id": "a16fe830",
   "metadata": {
    "execution": {
     "iopub.execute_input": "2022-05-22T09:22:58.969002Z",
     "iopub.status.busy": "2022-05-22T09:22:58.968258Z",
     "iopub.status.idle": "2022-05-22T09:22:58.984561Z",
     "shell.execute_reply": "2022-05-22T09:22:58.984995Z",
     "shell.execute_reply.started": "2022-04-27T10:24:15.471157Z"
    },
    "papermill": {
     "duration": 0.048363,
     "end_time": "2022-05-22T09:22:58.985150",
     "exception": false,
     "start_time": "2022-05-22T09:22:58.936787",
     "status": "completed"
    },
    "tags": []
   },
   "outputs": [
    {
     "data": {
      "text/html": [
       "<div>\n",
       "<style scoped>\n",
       "    .dataframe tbody tr th:only-of-type {\n",
       "        vertical-align: middle;\n",
       "    }\n",
       "\n",
       "    .dataframe tbody tr th {\n",
       "        vertical-align: top;\n",
       "    }\n",
       "\n",
       "    .dataframe thead th {\n",
       "        text-align: right;\n",
       "    }\n",
       "</style>\n",
       "<table border=\"1\" class=\"dataframe\">\n",
       "  <thead>\n",
       "    <tr style=\"text-align: right;\">\n",
       "      <th></th>\n",
       "      <th>id</th>\n",
       "      <th>comment_text</th>\n",
       "      <th>toxic</th>\n",
       "      <th>severe_toxic</th>\n",
       "      <th>obscene</th>\n",
       "      <th>threat</th>\n",
       "      <th>insult</th>\n",
       "      <th>identity_hate</th>\n",
       "    </tr>\n",
       "  </thead>\n",
       "  <tbody>\n",
       "    <tr>\n",
       "      <th>0</th>\n",
       "      <td>0000997932d777bf</td>\n",
       "      <td>Explanation\\nWhy the edits made under my usern...</td>\n",
       "      <td>0</td>\n",
       "      <td>0</td>\n",
       "      <td>0</td>\n",
       "      <td>0</td>\n",
       "      <td>0</td>\n",
       "      <td>0</td>\n",
       "    </tr>\n",
       "    <tr>\n",
       "      <th>1</th>\n",
       "      <td>000103f0d9cfb60f</td>\n",
       "      <td>D'aww! He matches this background colour I'm s...</td>\n",
       "      <td>0</td>\n",
       "      <td>0</td>\n",
       "      <td>0</td>\n",
       "      <td>0</td>\n",
       "      <td>0</td>\n",
       "      <td>0</td>\n",
       "    </tr>\n",
       "    <tr>\n",
       "      <th>2</th>\n",
       "      <td>000113f07ec002fd</td>\n",
       "      <td>Hey man, I'm really not trying to edit war. It...</td>\n",
       "      <td>0</td>\n",
       "      <td>0</td>\n",
       "      <td>0</td>\n",
       "      <td>0</td>\n",
       "      <td>0</td>\n",
       "      <td>0</td>\n",
       "    </tr>\n",
       "    <tr>\n",
       "      <th>3</th>\n",
       "      <td>0001b41b1c6bb37e</td>\n",
       "      <td>\"\\nMore\\nI can't make any real suggestions on ...</td>\n",
       "      <td>0</td>\n",
       "      <td>0</td>\n",
       "      <td>0</td>\n",
       "      <td>0</td>\n",
       "      <td>0</td>\n",
       "      <td>0</td>\n",
       "    </tr>\n",
       "    <tr>\n",
       "      <th>4</th>\n",
       "      <td>0001d958c54c6e35</td>\n",
       "      <td>You, sir, are my hero. Any chance you remember...</td>\n",
       "      <td>0</td>\n",
       "      <td>0</td>\n",
       "      <td>0</td>\n",
       "      <td>0</td>\n",
       "      <td>0</td>\n",
       "      <td>0</td>\n",
       "    </tr>\n",
       "  </tbody>\n",
       "</table>\n",
       "</div>"
      ],
      "text/plain": [
       "                 id                                       comment_text  toxic  \\\n",
       "0  0000997932d777bf  Explanation\\nWhy the edits made under my usern...      0   \n",
       "1  000103f0d9cfb60f  D'aww! He matches this background colour I'm s...      0   \n",
       "2  000113f07ec002fd  Hey man, I'm really not trying to edit war. It...      0   \n",
       "3  0001b41b1c6bb37e  \"\\nMore\\nI can't make any real suggestions on ...      0   \n",
       "4  0001d958c54c6e35  You, sir, are my hero. Any chance you remember...      0   \n",
       "\n",
       "   severe_toxic  obscene  threat  insult  identity_hate  \n",
       "0             0        0       0       0              0  \n",
       "1             0        0       0       0              0  \n",
       "2             0        0       0       0              0  \n",
       "3             0        0       0       0              0  \n",
       "4             0        0       0       0              0  "
      ]
     },
     "execution_count": 4,
     "metadata": {},
     "output_type": "execute_result"
    }
   ],
   "source": [
    "df.head()"
   ]
  },
  {
   "cell_type": "code",
   "execution_count": 5,
   "id": "d520eebd",
   "metadata": {
    "execution": {
     "iopub.execute_input": "2022-05-22T09:22:59.037837Z",
     "iopub.status.busy": "2022-05-22T09:22:59.037065Z",
     "iopub.status.idle": "2022-05-22T09:22:59.039816Z",
     "shell.execute_reply": "2022-05-22T09:22:59.039420Z",
     "shell.execute_reply.started": "2022-04-27T10:24:15.499523Z"
    },
    "papermill": {
     "duration": 0.031933,
     "end_time": "2022-05-22T09:22:59.039923",
     "exception": false,
     "start_time": "2022-05-22T09:22:59.007990",
     "status": "completed"
    },
    "tags": []
   },
   "outputs": [],
   "source": [
    "def clean_text(text):\n",
    "    text = text.lower()\n",
    "    text = re.sub(r\"what's\", \"what is \", text)\n",
    "    text = re.sub(r\"\\'s\", \" \", text)\n",
    "    text = re.sub(r\"\\'ve\", \" have \", text)\n",
    "    text = re.sub(r\"can't\", \"cannot \", text)\n",
    "    text = re.sub(r\"n't\", \" not \", text)\n",
    "    text = re.sub(r\"i'm\", \"i am \", text)\n",
    "    text = re.sub(r\"\\'re\", \" are \", text)\n",
    "    text = re.sub(r\"\\'d\", \" would \", text)\n",
    "    text = re.sub(r\"\\'ll\", \" will \", text)\n",
    "    text = re.sub(r\"\\'scuse\", \" excuse \", text)\n",
    "    text = re.sub('\\W', ' ', text)\n",
    "    text = re.sub('\\s+', ' ', text)\n",
    "    text = text.strip(' ')\n",
    "    return text"
   ]
  },
  {
   "cell_type": "code",
   "execution_count": 6,
   "id": "131c3001",
   "metadata": {
    "execution": {
     "iopub.execute_input": "2022-05-22T09:22:59.095369Z",
     "iopub.status.busy": "2022-05-22T09:22:59.094594Z",
     "iopub.status.idle": "2022-05-22T09:23:11.631983Z",
     "shell.execute_reply": "2022-05-22T09:23:11.631525Z",
     "shell.execute_reply.started": "2022-04-27T10:24:15.510921Z"
    },
    "papermill": {
     "duration": 12.568281,
     "end_time": "2022-05-22T09:23:11.632152",
     "exception": false,
     "start_time": "2022-05-22T09:22:59.063871",
     "status": "completed"
    },
    "tags": []
   },
   "outputs": [],
   "source": [
    "df['comment_text'] = df['comment_text'].map(lambda x : clean_text(x))"
   ]
  },
  {
   "cell_type": "code",
   "execution_count": 7,
   "id": "f705b914",
   "metadata": {
    "execution": {
     "iopub.execute_input": "2022-05-22T09:23:11.699192Z",
     "iopub.status.busy": "2022-05-22T09:23:11.698376Z",
     "iopub.status.idle": "2022-05-22T09:23:11.707146Z",
     "shell.execute_reply": "2022-05-22T09:23:11.706601Z",
     "shell.execute_reply.started": "2022-04-27T10:24:28.912143Z"
    },
    "papermill": {
     "duration": 0.051345,
     "end_time": "2022-05-22T09:23:11.707279",
     "exception": false,
     "start_time": "2022-05-22T09:23:11.655934",
     "status": "completed"
    },
    "tags": []
   },
   "outputs": [],
   "source": [
    "train_sentences = df[\"comment_text\"].fillna(\"CVxTz\").values\n",
    "list_classes = [\"toxic\", \"severe_toxic\", \"obscene\", \"threat\", \"insult\", \"identity_hate\"]\n",
    "train_y = df[list_classes].values"
   ]
  },
  {
   "cell_type": "code",
   "execution_count": 8,
   "id": "bf167408",
   "metadata": {
    "execution": {
     "iopub.execute_input": "2022-05-22T09:23:11.758280Z",
     "iopub.status.busy": "2022-05-22T09:23:11.757539Z",
     "iopub.status.idle": "2022-05-22T09:23:11.760975Z",
     "shell.execute_reply": "2022-05-22T09:23:11.760548Z",
     "shell.execute_reply.started": "2022-04-27T10:24:28.94683Z"
    },
    "papermill": {
     "duration": 0.030477,
     "end_time": "2022-05-22T09:23:11.761078",
     "exception": false,
     "start_time": "2022-05-22T09:23:11.730601",
     "status": "completed"
    },
    "tags": []
   },
   "outputs": [
    {
     "data": {
      "text/plain": [
       "(159571,)"
      ]
     },
     "execution_count": 8,
     "metadata": {},
     "output_type": "execute_result"
    }
   ],
   "source": [
    "train_sentences.shape"
   ]
  },
  {
   "cell_type": "code",
   "execution_count": 9,
   "id": "9e50683b",
   "metadata": {
    "execution": {
     "iopub.execute_input": "2022-05-22T09:23:11.818188Z",
     "iopub.status.busy": "2022-05-22T09:23:11.817370Z",
     "iopub.status.idle": "2022-05-22T09:23:11.820979Z",
     "shell.execute_reply": "2022-05-22T09:23:11.820568Z",
     "shell.execute_reply.started": "2022-04-27T10:24:28.954944Z"
    },
    "papermill": {
     "duration": 0.036666,
     "end_time": "2022-05-22T09:23:11.821077",
     "exception": false,
     "start_time": "2022-05-22T09:23:11.784411",
     "status": "completed"
    },
    "tags": []
   },
   "outputs": [
    {
     "data": {
      "text/html": [
       "<div>\n",
       "<style scoped>\n",
       "    .dataframe tbody tr th:only-of-type {\n",
       "        vertical-align: middle;\n",
       "    }\n",
       "\n",
       "    .dataframe tbody tr th {\n",
       "        vertical-align: top;\n",
       "    }\n",
       "\n",
       "    .dataframe thead th {\n",
       "        text-align: right;\n",
       "    }\n",
       "</style>\n",
       "<table border=\"1\" class=\"dataframe\">\n",
       "  <thead>\n",
       "    <tr style=\"text-align: right;\">\n",
       "      <th></th>\n",
       "      <th>id</th>\n",
       "      <th>comment_text</th>\n",
       "      <th>toxic</th>\n",
       "      <th>severe_toxic</th>\n",
       "      <th>obscene</th>\n",
       "      <th>threat</th>\n",
       "      <th>insult</th>\n",
       "      <th>identity_hate</th>\n",
       "    </tr>\n",
       "  </thead>\n",
       "  <tbody>\n",
       "    <tr>\n",
       "      <th>0</th>\n",
       "      <td>0000997932d777bf</td>\n",
       "      <td>explanation why the edits made under my userna...</td>\n",
       "      <td>0</td>\n",
       "      <td>0</td>\n",
       "      <td>0</td>\n",
       "      <td>0</td>\n",
       "      <td>0</td>\n",
       "      <td>0</td>\n",
       "    </tr>\n",
       "    <tr>\n",
       "      <th>1</th>\n",
       "      <td>000103f0d9cfb60f</td>\n",
       "      <td>d aww he matches this background colour i am s...</td>\n",
       "      <td>0</td>\n",
       "      <td>0</td>\n",
       "      <td>0</td>\n",
       "      <td>0</td>\n",
       "      <td>0</td>\n",
       "      <td>0</td>\n",
       "    </tr>\n",
       "    <tr>\n",
       "      <th>2</th>\n",
       "      <td>000113f07ec002fd</td>\n",
       "      <td>hey man i am really not trying to edit war it ...</td>\n",
       "      <td>0</td>\n",
       "      <td>0</td>\n",
       "      <td>0</td>\n",
       "      <td>0</td>\n",
       "      <td>0</td>\n",
       "      <td>0</td>\n",
       "    </tr>\n",
       "    <tr>\n",
       "      <th>3</th>\n",
       "      <td>0001b41b1c6bb37e</td>\n",
       "      <td>more i cannot make any real suggestions on imp...</td>\n",
       "      <td>0</td>\n",
       "      <td>0</td>\n",
       "      <td>0</td>\n",
       "      <td>0</td>\n",
       "      <td>0</td>\n",
       "      <td>0</td>\n",
       "    </tr>\n",
       "    <tr>\n",
       "      <th>4</th>\n",
       "      <td>0001d958c54c6e35</td>\n",
       "      <td>you sir are my hero any chance you remember wh...</td>\n",
       "      <td>0</td>\n",
       "      <td>0</td>\n",
       "      <td>0</td>\n",
       "      <td>0</td>\n",
       "      <td>0</td>\n",
       "      <td>0</td>\n",
       "    </tr>\n",
       "  </tbody>\n",
       "</table>\n",
       "</div>"
      ],
      "text/plain": [
       "                 id                                       comment_text  toxic  \\\n",
       "0  0000997932d777bf  explanation why the edits made under my userna...      0   \n",
       "1  000103f0d9cfb60f  d aww he matches this background colour i am s...      0   \n",
       "2  000113f07ec002fd  hey man i am really not trying to edit war it ...      0   \n",
       "3  0001b41b1c6bb37e  more i cannot make any real suggestions on imp...      0   \n",
       "4  0001d958c54c6e35  you sir are my hero any chance you remember wh...      0   \n",
       "\n",
       "   severe_toxic  obscene  threat  insult  identity_hate  \n",
       "0             0        0       0       0              0  \n",
       "1             0        0       0       0              0  \n",
       "2             0        0       0       0              0  \n",
       "3             0        0       0       0              0  \n",
       "4             0        0       0       0              0  "
      ]
     },
     "execution_count": 9,
     "metadata": {},
     "output_type": "execute_result"
    }
   ],
   "source": [
    "df.head()"
   ]
  },
  {
   "cell_type": "code",
   "execution_count": 10,
   "id": "266fd33b",
   "metadata": {
    "execution": {
     "iopub.execute_input": "2022-05-22T09:23:11.874857Z",
     "iopub.status.busy": "2022-05-22T09:23:11.874041Z",
     "iopub.status.idle": "2022-05-22T09:23:38.521323Z",
     "shell.execute_reply": "2022-05-22T09:23:38.521856Z",
     "shell.execute_reply.started": "2022-04-27T10:24:28.971202Z"
    },
    "papermill": {
     "duration": 26.676005,
     "end_time": "2022-05-22T09:23:38.522069",
     "exception": false,
     "start_time": "2022-05-22T09:23:11.846064",
     "status": "completed"
    },
    "tags": []
   },
   "outputs": [
    {
     "data": {
      "application/vnd.jupyter.widget-view+json": {
       "model_id": "f18b91368d074bcbab2307b561bebd90",
       "version_major": 2,
       "version_minor": 0
      },
      "text/plain": [
       "Downloading:   0%|          | 0.00/570 [00:00<?, ?B/s]"
      ]
     },
     "metadata": {},
     "output_type": "display_data"
    },
    {
     "data": {
      "application/vnd.jupyter.widget-view+json": {
       "model_id": "df1b38a5eaab44b3b7982cdd55702109",
       "version_major": 2,
       "version_minor": 0
      },
      "text/plain": [
       "Downloading:   0%|          | 0.00/232k [00:00<?, ?B/s]"
      ]
     },
     "metadata": {},
     "output_type": "display_data"
    },
    {
     "data": {
      "application/vnd.jupyter.widget-view+json": {
       "model_id": "616d40a745bd49d5aec0c7561b1c6766",
       "version_major": 2,
       "version_minor": 0
      },
      "text/plain": [
       "Downloading:   0%|          | 0.00/466k [00:00<?, ?B/s]"
      ]
     },
     "metadata": {},
     "output_type": "display_data"
    },
    {
     "data": {
      "application/vnd.jupyter.widget-view+json": {
       "model_id": "a17cfd134e5543c4a6ed82d2682a71f1",
       "version_major": 2,
       "version_minor": 0
      },
      "text/plain": [
       "Downloading:   0%|          | 0.00/28.0 [00:00<?, ?B/s]"
      ]
     },
     "metadata": {},
     "output_type": "display_data"
    },
    {
     "data": {
      "application/vnd.jupyter.widget-view+json": {
       "model_id": "bd06e440f2484b529cc8e6bdef5638cf",
       "version_major": 2,
       "version_minor": 0
      },
      "text/plain": [
       "Downloading:   0%|          | 0.00/536M [00:00<?, ?B/s]"
      ]
     },
     "metadata": {},
     "output_type": "display_data"
    },
    {
     "name": "stderr",
     "output_type": "stream",
     "text": [
      "Some layers from the model checkpoint at bert-base-uncased were not used when initializing TFBertModel: ['nsp___cls', 'mlm___cls']\n",
      "- This IS expected if you are initializing TFBertModel from the checkpoint of a model trained on another task or with another architecture (e.g. initializing a BertForSequenceClassification model from a BertForPreTraining model).\n",
      "- This IS NOT expected if you are initializing TFBertModel from the checkpoint of a model that you expect to be exactly identical (initializing a BertForSequenceClassification model from a BertForSequenceClassification model).\n",
      "All the layers of TFBertModel were initialized from the model checkpoint at bert-base-uncased.\n",
      "If your task is similar to the task the model of the checkpoint was trained on, you can already use TFBertModel for predictions without further training.\n"
     ]
    }
   ],
   "source": [
    "# Name of the BERT model to use\n",
    "model_name = 'bert-base-uncased'\n",
    "\n",
    "# Max length of tokens\n",
    "max_length = 128 # max 512\n",
    "\n",
    "# Load transformers config and set output_hidden_states to False\n",
    "config = BertConfig.from_pretrained(model_name)\n",
    "#config.output_hidden_states = False\n",
    "\n",
    "# Load BERT tokenizer\n",
    "tokenizer = BertTokenizerFast.from_pretrained(pretrained_model_name_or_path = model_name, config = config)\n",
    "bert = TFAutoModel.from_pretrained(model_name)"
   ]
  },
  {
   "cell_type": "code",
   "execution_count": 11,
   "id": "cff4bbe8",
   "metadata": {
    "execution": {
     "iopub.execute_input": "2022-05-22T09:23:38.584258Z",
     "iopub.status.busy": "2022-05-22T09:23:38.583610Z",
     "iopub.status.idle": "2022-05-22T09:23:42.617409Z",
     "shell.execute_reply": "2022-05-22T09:23:42.616903Z",
     "shell.execute_reply.started": "2022-04-27T10:28:06.921107Z"
    },
    "papermill": {
     "duration": 4.068174,
     "end_time": "2022-05-22T09:23:42.617552",
     "exception": false,
     "start_time": "2022-05-22T09:23:38.549378",
     "status": "completed"
    },
    "tags": []
   },
   "outputs": [],
   "source": [
    "input_ids = Input(shape=(max_length,), name='input_ids', dtype='int32')\n",
    "attention_mask = Input(shape=(max_length,), name='attention_mask', dtype='int32') \n",
    "inputs = {'input_ids': input_ids, 'attention_mask': attention_mask}\n",
    "x = bert.bert(inputs)"
   ]
  },
  {
   "cell_type": "code",
   "execution_count": 12,
   "id": "ee2056ca",
   "metadata": {
    "execution": {
     "iopub.execute_input": "2022-05-22T09:23:42.675209Z",
     "iopub.status.busy": "2022-05-22T09:23:42.674250Z",
     "iopub.status.idle": "2022-05-22T09:23:42.678639Z",
     "shell.execute_reply": "2022-05-22T09:23:42.678188Z",
     "shell.execute_reply.started": "2022-04-27T10:28:14.28679Z"
    },
    "papermill": {
     "duration": 0.034391,
     "end_time": "2022-05-22T09:23:42.678753",
     "exception": false,
     "start_time": "2022-05-22T09:23:42.644362",
     "status": "completed"
    },
    "tags": []
   },
   "outputs": [
    {
     "data": {
      "text/plain": [
       "<KerasTensor: shape=(None, 128) dtype=int32 (created by layer 'input_ids')>"
      ]
     },
     "execution_count": 12,
     "metadata": {},
     "output_type": "execute_result"
    }
   ],
   "source": [
    "input_ids"
   ]
  },
  {
   "cell_type": "code",
   "execution_count": 13,
   "id": "4abf1c59",
   "metadata": {
    "execution": {
     "iopub.execute_input": "2022-05-22T09:23:42.736481Z",
     "iopub.status.busy": "2022-05-22T09:23:42.735772Z",
     "iopub.status.idle": "2022-05-22T09:23:42.739519Z",
     "shell.execute_reply": "2022-05-22T09:23:42.739050Z",
     "shell.execute_reply.started": "2022-04-27T10:28:51.906846Z"
    },
    "papermill": {
     "duration": 0.034137,
     "end_time": "2022-05-22T09:23:42.739625",
     "exception": false,
     "start_time": "2022-05-22T09:23:42.705488",
     "status": "completed"
    },
    "tags": []
   },
   "outputs": [
    {
     "data": {
      "text/plain": [
       "<KerasTensor: shape=(None, 128) dtype=int32 (created by layer 'attention_mask')>"
      ]
     },
     "execution_count": 13,
     "metadata": {},
     "output_type": "execute_result"
    }
   ],
   "source": [
    "attention_mask"
   ]
  },
  {
   "cell_type": "code",
   "execution_count": 14,
   "id": "fff0d6d6",
   "metadata": {
    "execution": {
     "iopub.execute_input": "2022-05-22T09:23:42.797413Z",
     "iopub.status.busy": "2022-05-22T09:23:42.796699Z",
     "iopub.status.idle": "2022-05-22T09:23:42.800151Z",
     "shell.execute_reply": "2022-05-22T09:23:42.799706Z",
     "shell.execute_reply.started": "2022-04-27T10:24:55.270467Z"
    },
    "papermill": {
     "duration": 0.033818,
     "end_time": "2022-05-22T09:23:42.800257",
     "exception": false,
     "start_time": "2022-05-22T09:23:42.766439",
     "status": "completed"
    },
    "tags": []
   },
   "outputs": [
    {
     "data": {
      "text/plain": [
       "TFBaseModelOutputWithPooling(last_hidden_state=<KerasTensor: shape=(None, 128, 768) dtype=float32 (created by layer 'bert')>, pooler_output=<KerasTensor: shape=(None, 768) dtype=float32 (created by layer 'bert')>, hidden_states=None, attentions=None)"
      ]
     },
     "execution_count": 14,
     "metadata": {},
     "output_type": "execute_result"
    }
   ],
   "source": [
    "x"
   ]
  },
  {
   "cell_type": "code",
   "execution_count": 15,
   "id": "005736af",
   "metadata": {
    "execution": {
     "iopub.execute_input": "2022-05-22T09:23:42.861304Z",
     "iopub.status.busy": "2022-05-22T09:23:42.860527Z",
     "iopub.status.idle": "2022-05-22T09:23:42.905912Z",
     "shell.execute_reply": "2022-05-22T09:23:42.905501Z",
     "shell.execute_reply.started": "2022-04-27T10:30:40.841545Z"
    },
    "papermill": {
     "duration": 0.07841,
     "end_time": "2022-05-22T09:23:42.906019",
     "exception": false,
     "start_time": "2022-05-22T09:23:42.827609",
     "status": "completed"
    },
    "tags": []
   },
   "outputs": [
    {
     "name": "stdout",
     "output_type": "stream",
     "text": [
      "Model: \"model\"\n",
      "__________________________________________________________________________________________________\n",
      "Layer (type)                    Output Shape         Param #     Connected to                     \n",
      "==================================================================================================\n",
      "attention_mask (InputLayer)     [(None, 128)]        0                                            \n",
      "__________________________________________________________________________________________________\n",
      "input_ids (InputLayer)          [(None, 128)]        0                                            \n",
      "__________________________________________________________________________________________________\n",
      "bert (TFBertMainLayer)          TFBaseModelOutputWit 109482240   attention_mask[0][0]             \n",
      "                                                                 input_ids[0][0]                  \n",
      "__________________________________________________________________________________________________\n",
      "global_average_pooling1d (Globa (None, 768)          0           bert[0][0]                       \n",
      "__________________________________________________________________________________________________\n",
      "outputs (Dense)                 (None, 6)            4614        global_average_pooling1d[0][0]   \n",
      "==================================================================================================\n",
      "Total params: 109,486,854\n",
      "Trainable params: 109,486,854\n",
      "Non-trainable params: 0\n",
      "__________________________________________________________________________________________________\n"
     ]
    }
   ],
   "source": [
    "#x2 =Dense(512, activation='relu')(x[1])\n",
    "x2 = GlobalAveragePooling1D()(x[0])\n",
    "#x3 = Dropout(0.5)(x2)\n",
    "y =Dense(len(list_classes), activation='sigmoid', name='outputs')(x2)\n",
    "\n",
    "model = Model(inputs=inputs, outputs=y)\n",
    "#model.layers[2].trainable = False\n",
    "\n",
    "# Take a look at the model\n",
    "model.summary()"
   ]
  },
  {
   "cell_type": "code",
   "execution_count": 16,
   "id": "4dab8c1a",
   "metadata": {
    "execution": {
     "iopub.execute_input": "2022-05-22T09:23:42.973427Z",
     "iopub.status.busy": "2022-05-22T09:23:42.969883Z",
     "iopub.status.idle": "2022-05-22T09:23:42.980353Z",
     "shell.execute_reply": "2022-05-22T09:23:42.979760Z",
     "shell.execute_reply.started": "2022-04-27T10:24:55.404925Z"
    },
    "papermill": {
     "duration": 0.04696,
     "end_time": "2022-05-22T09:23:42.980480",
     "exception": false,
     "start_time": "2022-05-22T09:23:42.933520",
     "status": "completed"
    },
    "tags": []
   },
   "outputs": [],
   "source": [
    "optimizer = Adam(lr=1e-5, decay=1e-6)\n",
    "model.compile(loss='binary_crossentropy',\n",
    "                  optimizer=optimizer,\n",
    "                  metrics=['accuracy'])"
   ]
  },
  {
   "cell_type": "code",
   "execution_count": 17,
   "id": "bc987757",
   "metadata": {
    "execution": {
     "iopub.execute_input": "2022-05-22T09:23:43.101379Z",
     "iopub.status.busy": "2022-05-22T09:23:43.100625Z",
     "iopub.status.idle": "2022-05-22T09:24:22.726349Z",
     "shell.execute_reply": "2022-05-22T09:24:22.725800Z",
     "shell.execute_reply.started": "2022-04-27T10:24:55.442253Z"
    },
    "papermill": {
     "duration": 39.718743,
     "end_time": "2022-05-22T09:24:22.726525",
     "exception": false,
     "start_time": "2022-05-22T09:23:43.007782",
     "status": "completed"
    },
    "tags": []
   },
   "outputs": [],
   "source": [
    "# Tokenize the input \n",
    "x = tokenizer(\n",
    "    text=list(train_sentences),\n",
    "    add_special_tokens=True,\n",
    "    max_length=max_length,\n",
    "    truncation=True,\n",
    "    padding='max_length', # padding=True initial value,\n",
    "    return_tensors='tf',\n",
    "    return_token_type_ids = False,\n",
    "    return_attention_mask = True,\n",
    "    verbose = True)\n"
   ]
  },
  {
   "cell_type": "code",
   "execution_count": 18,
   "id": "9d812b3e",
   "metadata": {
    "execution": {
     "iopub.execute_input": "2022-05-22T09:24:22.793827Z",
     "iopub.status.busy": "2022-05-22T09:24:22.792901Z",
     "iopub.status.idle": "2022-05-22T10:00:44.538389Z",
     "shell.execute_reply": "2022-05-22T10:00:44.538982Z",
     "shell.execute_reply.started": "2022-04-27T10:25:36.413559Z"
    },
    "papermill": {
     "duration": 2181.779948,
     "end_time": "2022-05-22T10:00:44.539187",
     "exception": false,
     "start_time": "2022-05-22T09:24:22.759239",
     "status": "completed"
    },
    "tags": []
   },
   "outputs": [
    {
     "name": "stdout",
     "output_type": "stream",
     "text": [
      "4488/4488 [==============================] - 2180s 483ms/step - loss: 0.0604 - accuracy: 0.8616 - val_loss: 0.0398 - val_accuracy: 0.9727\n"
     ]
    }
   ],
   "source": [
    "history = model.fit(\n",
    "    x={'input_ids': x['input_ids'], 'attention_mask': x['attention_mask']},\n",
    "    #x={'input_ids': x['input_ids']},\n",
    "    y={'outputs': train_y},\n",
    "    validation_split=0.1,\n",
    "    batch_size=32,\n",
    "    epochs=1)"
   ]
  },
  {
   "cell_type": "code",
   "execution_count": 19,
   "id": "01fcf176",
   "metadata": {
    "execution": {
     "iopub.execute_input": "2022-05-22T10:00:46.910775Z",
     "iopub.status.busy": "2022-05-22T10:00:46.910018Z",
     "iopub.status.idle": "2022-05-22T10:01:01.490519Z",
     "shell.execute_reply": "2022-05-22T10:01:01.491713Z"
    },
    "papermill": {
     "duration": 15.768573,
     "end_time": "2022-05-22T10:01:01.491935",
     "exception": false,
     "start_time": "2022-05-22T10:00:45.723362",
     "status": "completed"
    },
    "tags": []
   },
   "outputs": [],
   "source": [
    "test_df=pd.read_csv('/kaggle/input/jigsaw-toxic-comment-classification-challenge/train.csv.zip')\n",
    "test_df['comment_text']=test_df['comment_text'].map(lambda x : clean_text(x))\n",
    "test_sentences = test_df[\"comment_text\"].fillna(\"CVxTz\").values"
   ]
  },
  {
   "cell_type": "code",
   "execution_count": 20,
   "id": "dfb117de",
   "metadata": {
    "execution": {
     "iopub.execute_input": "2022-05-22T10:01:04.147004Z",
     "iopub.status.busy": "2022-05-22T10:01:04.139353Z",
     "iopub.status.idle": "2022-05-22T10:01:42.887274Z",
     "shell.execute_reply": "2022-05-22T10:01:42.886749Z"
    },
    "papermill": {
     "duration": 40.001442,
     "end_time": "2022-05-22T10:01:42.887418",
     "exception": false,
     "start_time": "2022-05-22T10:01:02.885976",
     "status": "completed"
    },
    "tags": []
   },
   "outputs": [],
   "source": [
    "test_x = tokenizer(\n",
    "    text=list(test_sentences),\n",
    "    add_special_tokens=True,\n",
    "    max_length=max_length,\n",
    "    truncation=True,\n",
    "    padding='max_length',  \n",
    "    return_tensors='tf',\n",
    "    return_token_type_ids = False,\n",
    "    return_attention_mask = True,\n",
    "    verbose = True)"
   ]
  },
  {
   "cell_type": "code",
   "execution_count": 21,
   "id": "b95b4144",
   "metadata": {
    "execution": {
     "iopub.execute_input": "2022-05-22T10:01:46.341725Z",
     "iopub.status.busy": "2022-05-22T10:01:46.340851Z",
     "iopub.status.idle": "2022-05-22T10:01:46.343742Z",
     "shell.execute_reply": "2022-05-22T10:01:46.343318Z"
    },
    "papermill": {
     "duration": 2.259363,
     "end_time": "2022-05-22T10:01:46.343871",
     "exception": false,
     "start_time": "2022-05-22T10:01:44.084508",
     "status": "completed"
    },
    "tags": []
   },
   "outputs": [],
   "source": [
    "del test_sentences\n",
    "del x\n",
    "del df"
   ]
  },
  {
   "cell_type": "code",
   "execution_count": 22,
   "id": "c7ff1fdf",
   "metadata": {
    "execution": {
     "iopub.execute_input": "2022-05-22T10:01:49.036328Z",
     "iopub.status.busy": "2022-05-22T10:01:49.035496Z",
     "iopub.status.idle": "2022-05-22T10:01:49.038705Z",
     "shell.execute_reply": "2022-05-22T10:01:49.039095Z"
    },
    "papermill": {
     "duration": 1.484712,
     "end_time": "2022-05-22T10:01:49.039269",
     "exception": false,
     "start_time": "2022-05-22T10:01:47.554557",
     "status": "completed"
    },
    "tags": []
   },
   "outputs": [
    {
     "data": {
      "text/plain": [
       "40"
      ]
     },
     "execution_count": 22,
     "metadata": {},
     "output_type": "execute_result"
    }
   ],
   "source": [
    "import gc\n",
    "gc.collect()"
   ]
  },
  {
   "cell_type": "code",
   "execution_count": 23,
   "id": "39cdf338",
   "metadata": {
    "execution": {
     "iopub.execute_input": "2022-05-22T10:01:51.418483Z",
     "iopub.status.busy": "2022-05-22T10:01:51.417524Z",
     "iopub.status.idle": "2022-05-22T10:01:51.421705Z",
     "shell.execute_reply": "2022-05-22T10:01:51.421297Z"
    },
    "papermill": {
     "duration": 1.192663,
     "end_time": "2022-05-22T10:01:51.422063",
     "exception": false,
     "start_time": "2022-05-22T10:01:50.229400",
     "status": "completed"
    },
    "tags": []
   },
   "outputs": [
    {
     "data": {
      "text/plain": [
       "{'input_ids': <tf.Tensor: shape=(159571, 128), dtype=int32, numpy=\n",
       "array([[  101,  7526,  2339, ...,     0,     0,     0],\n",
       "       [  101,  1040, 22091, ...,     0,     0,     0],\n",
       "       [  101,  4931,  2158, ...,     0,     0,     0],\n",
       "       ...,\n",
       "       [  101, 13183,  6290, ...,     0,     0,     0],\n",
       "       [  101,  1998,  2009, ...,     0,     0,     0],\n",
       "       [  101,  1998,  1045, ...,     0,     0,     0]], dtype=int32)>, 'attention_mask': <tf.Tensor: shape=(159571, 128), dtype=int32, numpy=\n",
       "array([[1, 1, 1, ..., 0, 0, 0],\n",
       "       [1, 1, 1, ..., 0, 0, 0],\n",
       "       [1, 1, 1, ..., 0, 0, 0],\n",
       "       ...,\n",
       "       [1, 1, 1, ..., 0, 0, 0],\n",
       "       [1, 1, 1, ..., 0, 0, 0],\n",
       "       [1, 1, 1, ..., 0, 0, 0]], dtype=int32)>}"
      ]
     },
     "execution_count": 23,
     "metadata": {},
     "output_type": "execute_result"
    }
   ],
   "source": [
    "test_x"
   ]
  },
  {
   "cell_type": "code",
   "execution_count": 24,
   "id": "e5557843",
   "metadata": {
    "execution": {
     "iopub.execute_input": "2022-05-22T10:01:53.858044Z",
     "iopub.status.busy": "2022-05-22T10:01:53.857266Z",
     "iopub.status.idle": "2022-05-22T10:15:03.710029Z",
     "shell.execute_reply": "2022-05-22T10:15:03.709204Z"
    },
    "papermill": {
     "duration": 791.056692,
     "end_time": "2022-05-22T10:15:03.710200",
     "exception": false,
     "start_time": "2022-05-22T10:01:52.653508",
     "status": "completed"
    },
    "tags": []
   },
   "outputs": [],
   "source": [
    "predictions=model.predict(x={'input_ids': test_x['input_ids'], 'attention_mask': test_x['attention_mask']},batch_size=32)"
   ]
  },
  {
   "cell_type": "code",
   "execution_count": 25,
   "id": "a6546245",
   "metadata": {
    "execution": {
     "iopub.execute_input": "2022-05-22T10:15:06.133739Z",
     "iopub.status.busy": "2022-05-22T10:15:06.132958Z",
     "iopub.status.idle": "2022-05-22T10:15:06.136840Z",
     "shell.execute_reply": "2022-05-22T10:15:06.136374Z"
    },
    "papermill": {
     "duration": 1.200337,
     "end_time": "2022-05-22T10:15:06.136973",
     "exception": false,
     "start_time": "2022-05-22T10:15:04.936636",
     "status": "completed"
    },
    "tags": []
   },
   "outputs": [
    {
     "data": {
      "text/plain": [
       "array([[9.9149789e-04, 2.3875693e-05, 1.5620681e-04, 3.3332170e-05,\n",
       "        1.2906051e-04, 7.3448733e-05],\n",
       "       [2.6284985e-04, 4.6903431e-05, 1.1291747e-04, 2.0804227e-05,\n",
       "        6.4100699e-05, 4.9708087e-05],\n",
       "       [1.5763283e-03, 2.2878798e-05, 1.9805254e-04, 3.8970338e-05,\n",
       "        2.2685186e-04, 6.6173765e-05],\n",
       "       ...,\n",
       "       [1.4240363e-01, 3.6619487e-04, 2.8548745e-02, 5.8443483e-04,\n",
       "        8.0316411e-03, 5.3925766e-03],\n",
       "       [6.9780560e-04, 2.4109782e-05, 9.1678623e-05, 3.4081160e-05,\n",
       "        1.8030388e-04, 6.8993555e-05],\n",
       "       [8.3428442e-02, 8.1349412e-05, 8.0972124e-04, 5.2279065e-04,\n",
       "        1.7353789e-03, 4.4069570e-04]], dtype=float32)"
      ]
     },
     "execution_count": 25,
     "metadata": {},
     "output_type": "execute_result"
    }
   ],
   "source": [
    "predictions"
   ]
  },
  {
   "cell_type": "code",
   "execution_count": 26,
   "id": "f6e468dd",
   "metadata": {
    "execution": {
     "iopub.execute_input": "2022-05-22T10:15:09.110059Z",
     "iopub.status.busy": "2022-05-22T10:15:09.109238Z",
     "iopub.status.idle": "2022-05-22T10:15:10.932142Z",
     "shell.execute_reply": "2022-05-22T10:15:10.931672Z"
    },
    "papermill": {
     "duration": 3.517815,
     "end_time": "2022-05-22T10:15:10.932299",
     "exception": false,
     "start_time": "2022-05-22T10:15:07.414484",
     "status": "completed"
    },
    "tags": []
   },
   "outputs": [],
   "source": [
    "submission=pd.DataFrame(predictions,columns=list_classes)\n",
    "submission['id'] = test_df['id']\n",
    "submission=submission[['id']+(list_classes)]\n",
    "submission.to_csv(\"submission.csv\", index=False)"
   ]
  },
  {
   "cell_type": "code",
   "execution_count": 27,
   "id": "5c5aab43",
   "metadata": {
    "execution": {
     "iopub.execute_input": "2022-05-22T10:15:13.328249Z",
     "iopub.status.busy": "2022-05-22T10:15:13.327672Z",
     "iopub.status.idle": "2022-05-22T10:15:13.332986Z",
     "shell.execute_reply": "2022-05-22T10:15:13.333397Z"
    },
    "papermill": {
     "duration": 1.201417,
     "end_time": "2022-05-22T10:15:13.333543",
     "exception": false,
     "start_time": "2022-05-22T10:15:12.132126",
     "status": "completed"
    },
    "tags": []
   },
   "outputs": [
    {
     "data": {
      "text/html": [
       "<div>\n",
       "<style scoped>\n",
       "    .dataframe tbody tr th:only-of-type {\n",
       "        vertical-align: middle;\n",
       "    }\n",
       "\n",
       "    .dataframe tbody tr th {\n",
       "        vertical-align: top;\n",
       "    }\n",
       "\n",
       "    .dataframe thead th {\n",
       "        text-align: right;\n",
       "    }\n",
       "</style>\n",
       "<table border=\"1\" class=\"dataframe\">\n",
       "  <thead>\n",
       "    <tr style=\"text-align: right;\">\n",
       "      <th></th>\n",
       "      <th>id</th>\n",
       "      <th>toxic</th>\n",
       "      <th>severe_toxic</th>\n",
       "      <th>obscene</th>\n",
       "      <th>threat</th>\n",
       "      <th>insult</th>\n",
       "      <th>identity_hate</th>\n",
       "    </tr>\n",
       "  </thead>\n",
       "  <tbody>\n",
       "    <tr>\n",
       "      <th>0</th>\n",
       "      <td>0000997932d777bf</td>\n",
       "      <td>0.000991</td>\n",
       "      <td>0.000024</td>\n",
       "      <td>0.000156</td>\n",
       "      <td>0.000033</td>\n",
       "      <td>0.000129</td>\n",
       "      <td>0.000073</td>\n",
       "    </tr>\n",
       "    <tr>\n",
       "      <th>1</th>\n",
       "      <td>000103f0d9cfb60f</td>\n",
       "      <td>0.000263</td>\n",
       "      <td>0.000047</td>\n",
       "      <td>0.000113</td>\n",
       "      <td>0.000021</td>\n",
       "      <td>0.000064</td>\n",
       "      <td>0.000050</td>\n",
       "    </tr>\n",
       "    <tr>\n",
       "      <th>2</th>\n",
       "      <td>000113f07ec002fd</td>\n",
       "      <td>0.001576</td>\n",
       "      <td>0.000023</td>\n",
       "      <td>0.000198</td>\n",
       "      <td>0.000039</td>\n",
       "      <td>0.000227</td>\n",
       "      <td>0.000066</td>\n",
       "    </tr>\n",
       "    <tr>\n",
       "      <th>3</th>\n",
       "      <td>0001b41b1c6bb37e</td>\n",
       "      <td>0.000211</td>\n",
       "      <td>0.000048</td>\n",
       "      <td>0.000193</td>\n",
       "      <td>0.000033</td>\n",
       "      <td>0.000115</td>\n",
       "      <td>0.000066</td>\n",
       "    </tr>\n",
       "    <tr>\n",
       "      <th>4</th>\n",
       "      <td>0001d958c54c6e35</td>\n",
       "      <td>0.014668</td>\n",
       "      <td>0.000070</td>\n",
       "      <td>0.000322</td>\n",
       "      <td>0.000546</td>\n",
       "      <td>0.001902</td>\n",
       "      <td>0.000188</td>\n",
       "    </tr>\n",
       "    <tr>\n",
       "      <th>...</th>\n",
       "      <td>...</td>\n",
       "      <td>...</td>\n",
       "      <td>...</td>\n",
       "      <td>...</td>\n",
       "      <td>...</td>\n",
       "      <td>...</td>\n",
       "      <td>...</td>\n",
       "    </tr>\n",
       "    <tr>\n",
       "      <th>159566</th>\n",
       "      <td>ffe987279560d7ff</td>\n",
       "      <td>0.000683</td>\n",
       "      <td>0.000030</td>\n",
       "      <td>0.000144</td>\n",
       "      <td>0.000026</td>\n",
       "      <td>0.000110</td>\n",
       "      <td>0.000084</td>\n",
       "    </tr>\n",
       "    <tr>\n",
       "      <th>159567</th>\n",
       "      <td>ffea4adeee384e90</td>\n",
       "      <td>0.596419</td>\n",
       "      <td>0.000376</td>\n",
       "      <td>0.005690</td>\n",
       "      <td>0.003234</td>\n",
       "      <td>0.038713</td>\n",
       "      <td>0.003663</td>\n",
       "    </tr>\n",
       "    <tr>\n",
       "      <th>159568</th>\n",
       "      <td>ffee36eab5c267c9</td>\n",
       "      <td>0.142404</td>\n",
       "      <td>0.000366</td>\n",
       "      <td>0.028549</td>\n",
       "      <td>0.000584</td>\n",
       "      <td>0.008032</td>\n",
       "      <td>0.005393</td>\n",
       "    </tr>\n",
       "    <tr>\n",
       "      <th>159569</th>\n",
       "      <td>fff125370e4aaaf3</td>\n",
       "      <td>0.000698</td>\n",
       "      <td>0.000024</td>\n",
       "      <td>0.000092</td>\n",
       "      <td>0.000034</td>\n",
       "      <td>0.000180</td>\n",
       "      <td>0.000069</td>\n",
       "    </tr>\n",
       "    <tr>\n",
       "      <th>159570</th>\n",
       "      <td>fff46fc426af1f9a</td>\n",
       "      <td>0.083428</td>\n",
       "      <td>0.000081</td>\n",
       "      <td>0.000810</td>\n",
       "      <td>0.000523</td>\n",
       "      <td>0.001735</td>\n",
       "      <td>0.000441</td>\n",
       "    </tr>\n",
       "  </tbody>\n",
       "</table>\n",
       "<p>159571 rows × 7 columns</p>\n",
       "</div>"
      ],
      "text/plain": [
       "                      id     toxic  severe_toxic   obscene    threat  \\\n",
       "0       0000997932d777bf  0.000991      0.000024  0.000156  0.000033   \n",
       "1       000103f0d9cfb60f  0.000263      0.000047  0.000113  0.000021   \n",
       "2       000113f07ec002fd  0.001576      0.000023  0.000198  0.000039   \n",
       "3       0001b41b1c6bb37e  0.000211      0.000048  0.000193  0.000033   \n",
       "4       0001d958c54c6e35  0.014668      0.000070  0.000322  0.000546   \n",
       "...                  ...       ...           ...       ...       ...   \n",
       "159566  ffe987279560d7ff  0.000683      0.000030  0.000144  0.000026   \n",
       "159567  ffea4adeee384e90  0.596419      0.000376  0.005690  0.003234   \n",
       "159568  ffee36eab5c267c9  0.142404      0.000366  0.028549  0.000584   \n",
       "159569  fff125370e4aaaf3  0.000698      0.000024  0.000092  0.000034   \n",
       "159570  fff46fc426af1f9a  0.083428      0.000081  0.000810  0.000523   \n",
       "\n",
       "          insult  identity_hate  \n",
       "0       0.000129       0.000073  \n",
       "1       0.000064       0.000050  \n",
       "2       0.000227       0.000066  \n",
       "3       0.000115       0.000066  \n",
       "4       0.001902       0.000188  \n",
       "...          ...            ...  \n",
       "159566  0.000110       0.000084  \n",
       "159567  0.038713       0.003663  \n",
       "159568  0.008032       0.005393  \n",
       "159569  0.000180       0.000069  \n",
       "159570  0.001735       0.000441  \n",
       "\n",
       "[159571 rows x 7 columns]"
      ]
     },
     "execution_count": 27,
     "metadata": {},
     "output_type": "execute_result"
    }
   ],
   "source": [
    "submission"
   ]
  },
  {
   "cell_type": "code",
   "execution_count": 28,
   "id": "20f83bce",
   "metadata": {
    "execution": {
     "iopub.execute_input": "2022-05-22T10:15:15.715946Z",
     "iopub.status.busy": "2022-05-22T10:15:15.715230Z",
     "iopub.status.idle": "2022-05-22T10:15:16.562185Z",
     "shell.execute_reply": "2022-05-22T10:15:16.561706Z"
    },
    "papermill": {
     "duration": 2.039958,
     "end_time": "2022-05-22T10:15:16.562332",
     "exception": false,
     "start_time": "2022-05-22T10:15:14.522374",
     "status": "completed"
    },
    "tags": []
   },
   "outputs": [
    {
     "name": "stdout",
     "output_type": "stream",
     "text": [
      "__notebook__.ipynb  submission.csv\r\n"
     ]
    }
   ],
   "source": [
    "!ls"
   ]
  },
  {
   "cell_type": "code",
   "execution_count": 29,
   "id": "93007c37",
   "metadata": {
    "execution": {
     "iopub.execute_input": "2022-05-22T10:15:19.031891Z",
     "iopub.status.busy": "2022-05-22T10:15:19.031054Z",
     "iopub.status.idle": "2022-05-22T10:15:53.966855Z",
     "shell.execute_reply": "2022-05-22T10:15:53.966368Z"
    },
    "papermill": {
     "duration": 36.167226,
     "end_time": "2022-05-22T10:15:53.966993",
     "exception": false,
     "start_time": "2022-05-22T10:15:17.799767",
     "status": "completed"
    },
    "tags": []
   },
   "outputs": [],
   "source": [
    "model.save('Bert_Dcnn_model',save_format='tf')"
   ]
  },
  {
   "cell_type": "markdown",
   "id": "51325991",
   "metadata": {
    "papermill": {
     "duration": 1.319404,
     "end_time": "2022-05-22T10:15:56.512654",
     "exception": false,
     "start_time": "2022-05-22T10:15:55.193250",
     "status": "completed"
    },
    "tags": []
   },
   "source": [
    "# Tests\n"
   ]
  },
  {
   "cell_type": "code",
   "execution_count": 30,
   "id": "25618038",
   "metadata": {
    "execution": {
     "iopub.execute_input": "2022-05-22T10:15:58.900202Z",
     "iopub.status.busy": "2022-05-22T10:15:58.899387Z",
     "iopub.status.idle": "2022-05-22T10:15:58.901777Z",
     "shell.execute_reply": "2022-05-22T10:15:58.902215Z"
    },
    "papermill": {
     "duration": 1.185148,
     "end_time": "2022-05-22T10:15:58.902355",
     "exception": false,
     "start_time": "2022-05-22T10:15:57.717207",
     "status": "completed"
    },
    "tags": []
   },
   "outputs": [],
   "source": [
    "#input_ids = Input(shape=(3,), name='input_ids', dtype='int32')\n",
    "#attention_mask = Input(shape=(3,), name='attention_mask', dtype='int32') \n",
    "#inputs = {'input_ids': input_ids, 'attention_mask': attention_mask}\n",
    "#x = bert.bert(inputs)\n",
    "# padding='max_length"
   ]
  },
  {
   "cell_type": "code",
   "execution_count": 31,
   "id": "32ee7e3f",
   "metadata": {
    "execution": {
     "iopub.execute_input": "2022-05-22T10:16:01.338563Z",
     "iopub.status.busy": "2022-05-22T10:16:01.337765Z",
     "iopub.status.idle": "2022-05-22T10:16:01.341016Z",
     "shell.execute_reply": "2022-05-22T10:16:01.340574Z"
    },
    "papermill": {
     "duration": 1.19202,
     "end_time": "2022-05-22T10:16:01.341153",
     "exception": false,
     "start_time": "2022-05-22T10:16:00.149133",
     "status": "completed"
    },
    "tags": []
   },
   "outputs": [],
   "source": [
    "raw_text = [\"you are a sore loser and you deserve nothing\"]\n",
    "test_token= tokenizer(\n",
    "    text=list(raw_text),\n",
    "    add_special_tokens=True,\n",
    "    max_length=max_length,\n",
    "    truncation=True,\n",
    "    padding='max_length', \n",
    "    return_tensors='tf',\n",
    "    return_token_type_ids = False,\n",
    "    return_attention_mask = True,\n",
    "    verbose = True)"
   ]
  },
  {
   "cell_type": "code",
   "execution_count": 32,
   "id": "a605e7f1",
   "metadata": {
    "execution": {
     "iopub.execute_input": "2022-05-22T10:16:04.046294Z",
     "iopub.status.busy": "2022-05-22T10:16:04.045263Z",
     "iopub.status.idle": "2022-05-22T10:16:04.050352Z",
     "shell.execute_reply": "2022-05-22T10:16:04.049865Z"
    },
    "papermill": {
     "duration": 1.503284,
     "end_time": "2022-05-22T10:16:04.050510",
     "exception": false,
     "start_time": "2022-05-22T10:16:02.547226",
     "status": "completed"
    },
    "tags": []
   },
   "outputs": [
    {
     "data": {
      "text/plain": [
       "{'input_ids': <tf.Tensor: shape=(1, 128), dtype=int32, numpy=\n",
       "array([[  101,  2017,  2024,  1037, 14699, 10916,  1998,  2017, 10107,\n",
       "         2498,   102,     0,     0,     0,     0,     0,     0,     0,\n",
       "            0,     0,     0,     0,     0,     0,     0,     0,     0,\n",
       "            0,     0,     0,     0,     0,     0,     0,     0,     0,\n",
       "            0,     0,     0,     0,     0,     0,     0,     0,     0,\n",
       "            0,     0,     0,     0,     0,     0,     0,     0,     0,\n",
       "            0,     0,     0,     0,     0,     0,     0,     0,     0,\n",
       "            0,     0,     0,     0,     0,     0,     0,     0,     0,\n",
       "            0,     0,     0,     0,     0,     0,     0,     0,     0,\n",
       "            0,     0,     0,     0,     0,     0,     0,     0,     0,\n",
       "            0,     0,     0,     0,     0,     0,     0,     0,     0,\n",
       "            0,     0,     0,     0,     0,     0,     0,     0,     0,\n",
       "            0,     0,     0,     0,     0,     0,     0,     0,     0,\n",
       "            0,     0,     0,     0,     0,     0,     0,     0,     0,\n",
       "            0,     0]], dtype=int32)>, 'attention_mask': <tf.Tensor: shape=(1, 128), dtype=int32, numpy=\n",
       "array([[1, 1, 1, 1, 1, 1, 1, 1, 1, 1, 1, 0, 0, 0, 0, 0, 0, 0, 0, 0, 0, 0,\n",
       "        0, 0, 0, 0, 0, 0, 0, 0, 0, 0, 0, 0, 0, 0, 0, 0, 0, 0, 0, 0, 0, 0,\n",
       "        0, 0, 0, 0, 0, 0, 0, 0, 0, 0, 0, 0, 0, 0, 0, 0, 0, 0, 0, 0, 0, 0,\n",
       "        0, 0, 0, 0, 0, 0, 0, 0, 0, 0, 0, 0, 0, 0, 0, 0, 0, 0, 0, 0, 0, 0,\n",
       "        0, 0, 0, 0, 0, 0, 0, 0, 0, 0, 0, 0, 0, 0, 0, 0, 0, 0, 0, 0, 0, 0,\n",
       "        0, 0, 0, 0, 0, 0, 0, 0, 0, 0, 0, 0, 0, 0, 0, 0, 0, 0]],\n",
       "      dtype=int32)>}"
      ]
     },
     "execution_count": 32,
     "metadata": {},
     "output_type": "execute_result"
    }
   ],
   "source": [
    "test_token"
   ]
  },
  {
   "cell_type": "code",
   "execution_count": 33,
   "id": "f8f2be82",
   "metadata": {
    "execution": {
     "iopub.execute_input": "2022-05-22T10:16:06.433728Z",
     "iopub.status.busy": "2022-05-22T10:16:06.432870Z",
     "iopub.status.idle": "2022-05-22T10:16:07.197542Z",
     "shell.execute_reply": "2022-05-22T10:16:07.198081Z"
    },
    "papermill": {
     "duration": 1.954119,
     "end_time": "2022-05-22T10:16:07.198293",
     "exception": false,
     "start_time": "2022-05-22T10:16:05.244174",
     "status": "completed"
    },
    "tags": []
   },
   "outputs": [],
   "source": [
    "results = model.predict(x={'input_ids': test_token['input_ids'], 'attention_mask': test_token['attention_mask']},batch_size=32)"
   ]
  },
  {
   "cell_type": "code",
   "execution_count": 34,
   "id": "db16a431",
   "metadata": {
    "execution": {
     "iopub.execute_input": "2022-05-22T10:16:09.630825Z",
     "iopub.status.busy": "2022-05-22T10:16:09.629381Z",
     "iopub.status.idle": "2022-05-22T10:16:09.633405Z",
     "shell.execute_reply": "2022-05-22T10:16:09.633950Z"
    },
    "papermill": {
     "duration": 1.188544,
     "end_time": "2022-05-22T10:16:09.634117",
     "exception": false,
     "start_time": "2022-05-22T10:16:08.445573",
     "status": "completed"
    },
    "tags": []
   },
   "outputs": [
    {
     "name": "stdout",
     "output_type": "stream",
     "text": [
      "[[0.9910919  0.03494258 0.2981257  0.03010858 0.79706556 0.00459326]]\n"
     ]
    }
   ],
   "source": [
    "print(results)"
   ]
  }
 ],
 "metadata": {
  "kernelspec": {
   "display_name": "Python 3",
   "language": "python",
   "name": "python3"
  },
  "language_info": {
   "codemirror_mode": {
    "name": "ipython",
    "version": 3
   },
   "file_extension": ".py",
   "mimetype": "text/x-python",
   "name": "python",
   "nbconvert_exporter": "python",
   "pygments_lexer": "ipython3",
   "version": "3.7.10"
  },
  "papermill": {
   "default_parameters": {},
   "duration": 3210.901564,
   "end_time": "2022-05-22T10:16:13.862436",
   "environment_variables": {},
   "exception": null,
   "input_path": "__notebook__.ipynb",
   "output_path": "__notebook__.ipynb",
   "parameters": {},
   "start_time": "2022-05-22T09:22:42.960872",
   "version": "2.3.3"
  },
  "widgets": {
   "application/vnd.jupyter.widget-state+json": {
    "state": {
     "19422b9f928a416cb1cd669ddcaac869": {
      "model_module": "@jupyter-widgets/controls",
      "model_module_version": "1.5.0",
      "model_name": "FloatProgressModel",
      "state": {
       "_dom_classes": [],
       "_model_module": "@jupyter-widgets/controls",
       "_model_module_version": "1.5.0",
       "_model_name": "FloatProgressModel",
       "_view_count": null,
       "_view_module": "@jupyter-widgets/controls",
       "_view_module_version": "1.5.0",
       "_view_name": "ProgressView",
       "bar_style": "success",
       "description": "",
       "description_tooltip": null,
       "layout": "IPY_MODEL_de1a1faadc54492093c5b3dd3b9346c1",
       "max": 536063208.0,
       "min": 0.0,
       "orientation": "horizontal",
       "style": "IPY_MODEL_95ba17da3d6f421db4bda6fbf2b53e8f",
       "value": 536063208.0
      }
     },
     "1b27ebcc3b8748bcaa0f6d147163a122": {
      "model_module": "@jupyter-widgets/base",
      "model_module_version": "1.2.0",
      "model_name": "LayoutModel",
      "state": {
       "_model_module": "@jupyter-widgets/base",
       "_model_module_version": "1.2.0",
       "_model_name": "LayoutModel",
       "_view_count": null,
       "_view_module": "@jupyter-widgets/base",
       "_view_module_version": "1.2.0",
       "_view_name": "LayoutView",
       "align_content": null,
       "align_items": null,
       "align_self": null,
       "border": null,
       "bottom": null,
       "display": null,
       "flex": null,
       "flex_flow": null,
       "grid_area": null,
       "grid_auto_columns": null,
       "grid_auto_flow": null,
       "grid_auto_rows": null,
       "grid_column": null,
       "grid_gap": null,
       "grid_row": null,
       "grid_template_areas": null,
       "grid_template_columns": null,
       "grid_template_rows": null,
       "height": null,
       "justify_content": null,
       "justify_items": null,
       "left": null,
       "margin": null,
       "max_height": null,
       "max_width": null,
       "min_height": null,
       "min_width": null,
       "object_fit": null,
       "object_position": null,
       "order": null,
       "overflow": null,
       "overflow_x": null,
       "overflow_y": null,
       "padding": null,
       "right": null,
       "top": null,
       "visibility": null,
       "width": null
      }
     },
     "2123dfb04bb8431e86c85361e3161895": {
      "model_module": "@jupyter-widgets/controls",
      "model_module_version": "1.5.0",
      "model_name": "FloatProgressModel",
      "state": {
       "_dom_classes": [],
       "_model_module": "@jupyter-widgets/controls",
       "_model_module_version": "1.5.0",
       "_model_name": "FloatProgressModel",
       "_view_count": null,
       "_view_module": "@jupyter-widgets/controls",
       "_view_module_version": "1.5.0",
       "_view_name": "ProgressView",
       "bar_style": "success",
       "description": "",
       "description_tooltip": null,
       "layout": "IPY_MODEL_fe92af61f089458fa6c721dc5b94759f",
       "max": 231508.0,
       "min": 0.0,
       "orientation": "horizontal",
       "style": "IPY_MODEL_9bcefd7a3e8942859d23869d5f40ba6e",
       "value": 231508.0
      }
     },
     "252f9a31382a45ac83cbb43dd44f2146": {
      "model_module": "@jupyter-widgets/base",
      "model_module_version": "1.2.0",
      "model_name": "LayoutModel",
      "state": {
       "_model_module": "@jupyter-widgets/base",
       "_model_module_version": "1.2.0",
       "_model_name": "LayoutModel",
       "_view_count": null,
       "_view_module": "@jupyter-widgets/base",
       "_view_module_version": "1.2.0",
       "_view_name": "LayoutView",
       "align_content": null,
       "align_items": null,
       "align_self": null,
       "border": null,
       "bottom": null,
       "display": null,
       "flex": null,
       "flex_flow": null,
       "grid_area": null,
       "grid_auto_columns": null,
       "grid_auto_flow": null,
       "grid_auto_rows": null,
       "grid_column": null,
       "grid_gap": null,
       "grid_row": null,
       "grid_template_areas": null,
       "grid_template_columns": null,
       "grid_template_rows": null,
       "height": null,
       "justify_content": null,
       "justify_items": null,
       "left": null,
       "margin": null,
       "max_height": null,
       "max_width": null,
       "min_height": null,
       "min_width": null,
       "object_fit": null,
       "object_position": null,
       "order": null,
       "overflow": null,
       "overflow_x": null,
       "overflow_y": null,
       "padding": null,
       "right": null,
       "top": null,
       "visibility": null,
       "width": null
      }
     },
     "257c9885790f421c9b191556a2cacb6b": {
      "model_module": "@jupyter-widgets/controls",
      "model_module_version": "1.5.0",
      "model_name": "ProgressStyleModel",
      "state": {
       "_model_module": "@jupyter-widgets/controls",
       "_model_module_version": "1.5.0",
       "_model_name": "ProgressStyleModel",
       "_view_count": null,
       "_view_module": "@jupyter-widgets/base",
       "_view_module_version": "1.2.0",
       "_view_name": "StyleView",
       "bar_color": null,
       "description_width": ""
      }
     },
     "2c612468e7e34d79a92831be1d36a70a": {
      "model_module": "@jupyter-widgets/controls",
      "model_module_version": "1.5.0",
      "model_name": "FloatProgressModel",
      "state": {
       "_dom_classes": [],
       "_model_module": "@jupyter-widgets/controls",
       "_model_module_version": "1.5.0",
       "_model_name": "FloatProgressModel",
       "_view_count": null,
       "_view_module": "@jupyter-widgets/controls",
       "_view_module_version": "1.5.0",
       "_view_name": "ProgressView",
       "bar_style": "success",
       "description": "",
       "description_tooltip": null,
       "layout": "IPY_MODEL_8a5411b8a8e246848c9c627cf4e1870c",
       "max": 28.0,
       "min": 0.0,
       "orientation": "horizontal",
       "style": "IPY_MODEL_997f8182d52d4c61b23a79c7fbad3e23",
       "value": 28.0
      }
     },
     "352f8e952f9941e3acc5bdd42c5ee387": {
      "model_module": "@jupyter-widgets/controls",
      "model_module_version": "1.5.0",
      "model_name": "DescriptionStyleModel",
      "state": {
       "_model_module": "@jupyter-widgets/controls",
       "_model_module_version": "1.5.0",
       "_model_name": "DescriptionStyleModel",
       "_view_count": null,
       "_view_module": "@jupyter-widgets/base",
       "_view_module_version": "1.2.0",
       "_view_name": "StyleView",
       "description_width": ""
      }
     },
     "378fc2a10d214814b3053099f2419fcb": {
      "model_module": "@jupyter-widgets/controls",
      "model_module_version": "1.5.0",
      "model_name": "HTMLModel",
      "state": {
       "_dom_classes": [],
       "_model_module": "@jupyter-widgets/controls",
       "_model_module_version": "1.5.0",
       "_model_name": "HTMLModel",
       "_view_count": null,
       "_view_module": "@jupyter-widgets/controls",
       "_view_module_version": "1.5.0",
       "_view_name": "HTMLView",
       "description": "",
       "description_tooltip": null,
       "layout": "IPY_MODEL_1b27ebcc3b8748bcaa0f6d147163a122",
       "placeholder": "​",
       "style": "IPY_MODEL_352f8e952f9941e3acc5bdd42c5ee387",
       "value": " 28.0/28.0 [00:00&lt;00:00, 966B/s]"
      }
     },
     "3821d4441a9843668f6cd77bc40f66e2": {
      "model_module": "@jupyter-widgets/base",
      "model_module_version": "1.2.0",
      "model_name": "LayoutModel",
      "state": {
       "_model_module": "@jupyter-widgets/base",
       "_model_module_version": "1.2.0",
       "_model_name": "LayoutModel",
       "_view_count": null,
       "_view_module": "@jupyter-widgets/base",
       "_view_module_version": "1.2.0",
       "_view_name": "LayoutView",
       "align_content": null,
       "align_items": null,
       "align_self": null,
       "border": null,
       "bottom": null,
       "display": null,
       "flex": null,
       "flex_flow": null,
       "grid_area": null,
       "grid_auto_columns": null,
       "grid_auto_flow": null,
       "grid_auto_rows": null,
       "grid_column": null,
       "grid_gap": null,
       "grid_row": null,
       "grid_template_areas": null,
       "grid_template_columns": null,
       "grid_template_rows": null,
       "height": null,
       "justify_content": null,
       "justify_items": null,
       "left": null,
       "margin": null,
       "max_height": null,
       "max_width": null,
       "min_height": null,
       "min_width": null,
       "object_fit": null,
       "object_position": null,
       "order": null,
       "overflow": null,
       "overflow_x": null,
       "overflow_y": null,
       "padding": null,
       "right": null,
       "top": null,
       "visibility": null,
       "width": null
      }
     },
     "4257e06f452940e0bc64f5c2331275c6": {
      "model_module": "@jupyter-widgets/controls",
      "model_module_version": "1.5.0",
      "model_name": "DescriptionStyleModel",
      "state": {
       "_model_module": "@jupyter-widgets/controls",
       "_model_module_version": "1.5.0",
       "_model_name": "DescriptionStyleModel",
       "_view_count": null,
       "_view_module": "@jupyter-widgets/base",
       "_view_module_version": "1.2.0",
       "_view_name": "StyleView",
       "description_width": ""
      }
     },
     "436d618fc42b4e789b99f28ea84efdfb": {
      "model_module": "@jupyter-widgets/base",
      "model_module_version": "1.2.0",
      "model_name": "LayoutModel",
      "state": {
       "_model_module": "@jupyter-widgets/base",
       "_model_module_version": "1.2.0",
       "_model_name": "LayoutModel",
       "_view_count": null,
       "_view_module": "@jupyter-widgets/base",
       "_view_module_version": "1.2.0",
       "_view_name": "LayoutView",
       "align_content": null,
       "align_items": null,
       "align_self": null,
       "border": null,
       "bottom": null,
       "display": null,
       "flex": null,
       "flex_flow": null,
       "grid_area": null,
       "grid_auto_columns": null,
       "grid_auto_flow": null,
       "grid_auto_rows": null,
       "grid_column": null,
       "grid_gap": null,
       "grid_row": null,
       "grid_template_areas": null,
       "grid_template_columns": null,
       "grid_template_rows": null,
       "height": null,
       "justify_content": null,
       "justify_items": null,
       "left": null,
       "margin": null,
       "max_height": null,
       "max_width": null,
       "min_height": null,
       "min_width": null,
       "object_fit": null,
       "object_position": null,
       "order": null,
       "overflow": null,
       "overflow_x": null,
       "overflow_y": null,
       "padding": null,
       "right": null,
       "top": null,
       "visibility": null,
       "width": null
      }
     },
     "4afdd66bb56f4777b51cbdefb6046db8": {
      "model_module": "@jupyter-widgets/controls",
      "model_module_version": "1.5.0",
      "model_name": "HTMLModel",
      "state": {
       "_dom_classes": [],
       "_model_module": "@jupyter-widgets/controls",
       "_model_module_version": "1.5.0",
       "_model_name": "HTMLModel",
       "_view_count": null,
       "_view_module": "@jupyter-widgets/controls",
       "_view_module_version": "1.5.0",
       "_view_name": "HTMLView",
       "description": "",
       "description_tooltip": null,
       "layout": "IPY_MODEL_53220a3ca3784b8c8bead50e5fd57d71",
       "placeholder": "​",
       "style": "IPY_MODEL_4e5d5d7ee6054a7ba554a544be227b84",
       "value": " 466k/466k [00:00&lt;00:00, 654kB/s]"
      }
     },
     "4e5d5d7ee6054a7ba554a544be227b84": {
      "model_module": "@jupyter-widgets/controls",
      "model_module_version": "1.5.0",
      "model_name": "DescriptionStyleModel",
      "state": {
       "_model_module": "@jupyter-widgets/controls",
       "_model_module_version": "1.5.0",
       "_model_name": "DescriptionStyleModel",
       "_view_count": null,
       "_view_module": "@jupyter-widgets/base",
       "_view_module_version": "1.2.0",
       "_view_name": "StyleView",
       "description_width": ""
      }
     },
     "53220a3ca3784b8c8bead50e5fd57d71": {
      "model_module": "@jupyter-widgets/base",
      "model_module_version": "1.2.0",
      "model_name": "LayoutModel",
      "state": {
       "_model_module": "@jupyter-widgets/base",
       "_model_module_version": "1.2.0",
       "_model_name": "LayoutModel",
       "_view_count": null,
       "_view_module": "@jupyter-widgets/base",
       "_view_module_version": "1.2.0",
       "_view_name": "LayoutView",
       "align_content": null,
       "align_items": null,
       "align_self": null,
       "border": null,
       "bottom": null,
       "display": null,
       "flex": null,
       "flex_flow": null,
       "grid_area": null,
       "grid_auto_columns": null,
       "grid_auto_flow": null,
       "grid_auto_rows": null,
       "grid_column": null,
       "grid_gap": null,
       "grid_row": null,
       "grid_template_areas": null,
       "grid_template_columns": null,
       "grid_template_rows": null,
       "height": null,
       "justify_content": null,
       "justify_items": null,
       "left": null,
       "margin": null,
       "max_height": null,
       "max_width": null,
       "min_height": null,
       "min_width": null,
       "object_fit": null,
       "object_position": null,
       "order": null,
       "overflow": null,
       "overflow_x": null,
       "overflow_y": null,
       "padding": null,
       "right": null,
       "top": null,
       "visibility": null,
       "width": null
      }
     },
     "57f3ae5a1ff94246ac734963f77f9113": {
      "model_module": "@jupyter-widgets/controls",
      "model_module_version": "1.5.0",
      "model_name": "HTMLModel",
      "state": {
       "_dom_classes": [],
       "_model_module": "@jupyter-widgets/controls",
       "_model_module_version": "1.5.0",
       "_model_name": "HTMLModel",
       "_view_count": null,
       "_view_module": "@jupyter-widgets/controls",
       "_view_module_version": "1.5.0",
       "_view_name": "HTMLView",
       "description": "",
       "description_tooltip": null,
       "layout": "IPY_MODEL_fb6776f394be43e7a63c820485aaa4c5",
       "placeholder": "​",
       "style": "IPY_MODEL_6cd316a72c3d440d8666c7ae17eb8c1e",
       "value": "Downloading: 100%"
      }
     },
     "584dcb3b93a2473eaed31887d76a9292": {
      "model_module": "@jupyter-widgets/base",
      "model_module_version": "1.2.0",
      "model_name": "LayoutModel",
      "state": {
       "_model_module": "@jupyter-widgets/base",
       "_model_module_version": "1.2.0",
       "_model_name": "LayoutModel",
       "_view_count": null,
       "_view_module": "@jupyter-widgets/base",
       "_view_module_version": "1.2.0",
       "_view_name": "LayoutView",
       "align_content": null,
       "align_items": null,
       "align_self": null,
       "border": null,
       "bottom": null,
       "display": null,
       "flex": null,
       "flex_flow": null,
       "grid_area": null,
       "grid_auto_columns": null,
       "grid_auto_flow": null,
       "grid_auto_rows": null,
       "grid_column": null,
       "grid_gap": null,
       "grid_row": null,
       "grid_template_areas": null,
       "grid_template_columns": null,
       "grid_template_rows": null,
       "height": null,
       "justify_content": null,
       "justify_items": null,
       "left": null,
       "margin": null,
       "max_height": null,
       "max_width": null,
       "min_height": null,
       "min_width": null,
       "object_fit": null,
       "object_position": null,
       "order": null,
       "overflow": null,
       "overflow_x": null,
       "overflow_y": null,
       "padding": null,
       "right": null,
       "top": null,
       "visibility": null,
       "width": null
      }
     },
     "604316c6253445258923fa01f3954bcc": {
      "model_module": "@jupyter-widgets/controls",
      "model_module_version": "1.5.0",
      "model_name": "HTMLModel",
      "state": {
       "_dom_classes": [],
       "_model_module": "@jupyter-widgets/controls",
       "_model_module_version": "1.5.0",
       "_model_name": "HTMLModel",
       "_view_count": null,
       "_view_module": "@jupyter-widgets/controls",
       "_view_module_version": "1.5.0",
       "_view_name": "HTMLView",
       "description": "",
       "description_tooltip": null,
       "layout": "IPY_MODEL_3821d4441a9843668f6cd77bc40f66e2",
       "placeholder": "​",
       "style": "IPY_MODEL_cf23e03193d34be1b39f907a841f1a29",
       "value": "Downloading: 100%"
      }
     },
     "616d40a745bd49d5aec0c7561b1c6766": {
      "model_module": "@jupyter-widgets/controls",
      "model_module_version": "1.5.0",
      "model_name": "HBoxModel",
      "state": {
       "_dom_classes": [],
       "_model_module": "@jupyter-widgets/controls",
       "_model_module_version": "1.5.0",
       "_model_name": "HBoxModel",
       "_view_count": null,
       "_view_module": "@jupyter-widgets/controls",
       "_view_module_version": "1.5.0",
       "_view_name": "HBoxView",
       "box_style": "",
       "children": [
        "IPY_MODEL_6b6c6faa38ac4366bc566fb8fa10eece",
        "IPY_MODEL_98c8043f912a41ad811cf86084eb6cc8",
        "IPY_MODEL_4afdd66bb56f4777b51cbdefb6046db8"
       ],
       "layout": "IPY_MODEL_62c41a16def14ead9d494e4b441d3993"
      }
     },
     "62c41a16def14ead9d494e4b441d3993": {
      "model_module": "@jupyter-widgets/base",
      "model_module_version": "1.2.0",
      "model_name": "LayoutModel",
      "state": {
       "_model_module": "@jupyter-widgets/base",
       "_model_module_version": "1.2.0",
       "_model_name": "LayoutModel",
       "_view_count": null,
       "_view_module": "@jupyter-widgets/base",
       "_view_module_version": "1.2.0",
       "_view_name": "LayoutView",
       "align_content": null,
       "align_items": null,
       "align_self": null,
       "border": null,
       "bottom": null,
       "display": null,
       "flex": null,
       "flex_flow": null,
       "grid_area": null,
       "grid_auto_columns": null,
       "grid_auto_flow": null,
       "grid_auto_rows": null,
       "grid_column": null,
       "grid_gap": null,
       "grid_row": null,
       "grid_template_areas": null,
       "grid_template_columns": null,
       "grid_template_rows": null,
       "height": null,
       "justify_content": null,
       "justify_items": null,
       "left": null,
       "margin": null,
       "max_height": null,
       "max_width": null,
       "min_height": null,
       "min_width": null,
       "object_fit": null,
       "object_position": null,
       "order": null,
       "overflow": null,
       "overflow_x": null,
       "overflow_y": null,
       "padding": null,
       "right": null,
       "top": null,
       "visibility": null,
       "width": null
      }
     },
     "6457a4bd129849ff84fd3394dab1fbb0": {
      "model_module": "@jupyter-widgets/controls",
      "model_module_version": "1.5.0",
      "model_name": "DescriptionStyleModel",
      "state": {
       "_model_module": "@jupyter-widgets/controls",
       "_model_module_version": "1.5.0",
       "_model_name": "DescriptionStyleModel",
       "_view_count": null,
       "_view_module": "@jupyter-widgets/base",
       "_view_module_version": "1.2.0",
       "_view_name": "StyleView",
       "description_width": ""
      }
     },
     "6b6c6faa38ac4366bc566fb8fa10eece": {
      "model_module": "@jupyter-widgets/controls",
      "model_module_version": "1.5.0",
      "model_name": "HTMLModel",
      "state": {
       "_dom_classes": [],
       "_model_module": "@jupyter-widgets/controls",
       "_model_module_version": "1.5.0",
       "_model_name": "HTMLModel",
       "_view_count": null,
       "_view_module": "@jupyter-widgets/controls",
       "_view_module_version": "1.5.0",
       "_view_name": "HTMLView",
       "description": "",
       "description_tooltip": null,
       "layout": "IPY_MODEL_436d618fc42b4e789b99f28ea84efdfb",
       "placeholder": "​",
       "style": "IPY_MODEL_bd671f3c173d4db88ff53197f70251b5",
       "value": "Downloading: 100%"
      }
     },
     "6cd316a72c3d440d8666c7ae17eb8c1e": {
      "model_module": "@jupyter-widgets/controls",
      "model_module_version": "1.5.0",
      "model_name": "DescriptionStyleModel",
      "state": {
       "_model_module": "@jupyter-widgets/controls",
       "_model_module_version": "1.5.0",
       "_model_name": "DescriptionStyleModel",
       "_view_count": null,
       "_view_module": "@jupyter-widgets/base",
       "_view_module_version": "1.2.0",
       "_view_name": "StyleView",
       "description_width": ""
      }
     },
     "6d945576c97f47b0b530b6c2925e7e62": {
      "model_module": "@jupyter-widgets/base",
      "model_module_version": "1.2.0",
      "model_name": "LayoutModel",
      "state": {
       "_model_module": "@jupyter-widgets/base",
       "_model_module_version": "1.2.0",
       "_model_name": "LayoutModel",
       "_view_count": null,
       "_view_module": "@jupyter-widgets/base",
       "_view_module_version": "1.2.0",
       "_view_name": "LayoutView",
       "align_content": null,
       "align_items": null,
       "align_self": null,
       "border": null,
       "bottom": null,
       "display": null,
       "flex": null,
       "flex_flow": null,
       "grid_area": null,
       "grid_auto_columns": null,
       "grid_auto_flow": null,
       "grid_auto_rows": null,
       "grid_column": null,
       "grid_gap": null,
       "grid_row": null,
       "grid_template_areas": null,
       "grid_template_columns": null,
       "grid_template_rows": null,
       "height": null,
       "justify_content": null,
       "justify_items": null,
       "left": null,
       "margin": null,
       "max_height": null,
       "max_width": null,
       "min_height": null,
       "min_width": null,
       "object_fit": null,
       "object_position": null,
       "order": null,
       "overflow": null,
       "overflow_x": null,
       "overflow_y": null,
       "padding": null,
       "right": null,
       "top": null,
       "visibility": null,
       "width": null
      }
     },
     "7496d9376abd40bb9b034c38caf95991": {
      "model_module": "@jupyter-widgets/controls",
      "model_module_version": "1.5.0",
      "model_name": "HTMLModel",
      "state": {
       "_dom_classes": [],
       "_model_module": "@jupyter-widgets/controls",
       "_model_module_version": "1.5.0",
       "_model_name": "HTMLModel",
       "_view_count": null,
       "_view_module": "@jupyter-widgets/controls",
       "_view_module_version": "1.5.0",
       "_view_name": "HTMLView",
       "description": "",
       "description_tooltip": null,
       "layout": "IPY_MODEL_93a0c4c576b6415a90150adc375b3722",
       "placeholder": "​",
       "style": "IPY_MODEL_4257e06f452940e0bc64f5c2331275c6",
       "value": " 536M/536M [00:11&lt;00:00, 45.0MB/s]"
      }
     },
     "776ce2a1e8484914a2d05e1eda48db78": {
      "model_module": "@jupyter-widgets/controls",
      "model_module_version": "1.5.0",
      "model_name": "HTMLModel",
      "state": {
       "_dom_classes": [],
       "_model_module": "@jupyter-widgets/controls",
       "_model_module_version": "1.5.0",
       "_model_name": "HTMLModel",
       "_view_count": null,
       "_view_module": "@jupyter-widgets/controls",
       "_view_module_version": "1.5.0",
       "_view_name": "HTMLView",
       "description": "",
       "description_tooltip": null,
       "layout": "IPY_MODEL_d67b064c729b4e2293a328c4faacdabc",
       "placeholder": "​",
       "style": "IPY_MODEL_9da36f131721494990c1899da39e1dc3",
       "value": " 570/570 [00:00&lt;00:00, 9.91kB/s]"
      }
     },
     "8a5411b8a8e246848c9c627cf4e1870c": {
      "model_module": "@jupyter-widgets/base",
      "model_module_version": "1.2.0",
      "model_name": "LayoutModel",
      "state": {
       "_model_module": "@jupyter-widgets/base",
       "_model_module_version": "1.2.0",
       "_model_name": "LayoutModel",
       "_view_count": null,
       "_view_module": "@jupyter-widgets/base",
       "_view_module_version": "1.2.0",
       "_view_name": "LayoutView",
       "align_content": null,
       "align_items": null,
       "align_self": null,
       "border": null,
       "bottom": null,
       "display": null,
       "flex": null,
       "flex_flow": null,
       "grid_area": null,
       "grid_auto_columns": null,
       "grid_auto_flow": null,
       "grid_auto_rows": null,
       "grid_column": null,
       "grid_gap": null,
       "grid_row": null,
       "grid_template_areas": null,
       "grid_template_columns": null,
       "grid_template_rows": null,
       "height": null,
       "justify_content": null,
       "justify_items": null,
       "left": null,
       "margin": null,
       "max_height": null,
       "max_width": null,
       "min_height": null,
       "min_width": null,
       "object_fit": null,
       "object_position": null,
       "order": null,
       "overflow": null,
       "overflow_x": null,
       "overflow_y": null,
       "padding": null,
       "right": null,
       "top": null,
       "visibility": null,
       "width": null
      }
     },
     "8cf9907ecc254db692d1045c13f9266e": {
      "model_module": "@jupyter-widgets/controls",
      "model_module_version": "1.5.0",
      "model_name": "HTMLModel",
      "state": {
       "_dom_classes": [],
       "_model_module": "@jupyter-widgets/controls",
       "_model_module_version": "1.5.0",
       "_model_name": "HTMLModel",
       "_view_count": null,
       "_view_module": "@jupyter-widgets/controls",
       "_view_module_version": "1.5.0",
       "_view_name": "HTMLView",
       "description": "",
       "description_tooltip": null,
       "layout": "IPY_MODEL_b0fa8239915140fbadf43066322de268",
       "placeholder": "​",
       "style": "IPY_MODEL_6457a4bd129849ff84fd3394dab1fbb0",
       "value": " 232k/232k [00:00&lt;00:00, 676kB/s]"
      }
     },
     "93a0c4c576b6415a90150adc375b3722": {
      "model_module": "@jupyter-widgets/base",
      "model_module_version": "1.2.0",
      "model_name": "LayoutModel",
      "state": {
       "_model_module": "@jupyter-widgets/base",
       "_model_module_version": "1.2.0",
       "_model_name": "LayoutModel",
       "_view_count": null,
       "_view_module": "@jupyter-widgets/base",
       "_view_module_version": "1.2.0",
       "_view_name": "LayoutView",
       "align_content": null,
       "align_items": null,
       "align_self": null,
       "border": null,
       "bottom": null,
       "display": null,
       "flex": null,
       "flex_flow": null,
       "grid_area": null,
       "grid_auto_columns": null,
       "grid_auto_flow": null,
       "grid_auto_rows": null,
       "grid_column": null,
       "grid_gap": null,
       "grid_row": null,
       "grid_template_areas": null,
       "grid_template_columns": null,
       "grid_template_rows": null,
       "height": null,
       "justify_content": null,
       "justify_items": null,
       "left": null,
       "margin": null,
       "max_height": null,
       "max_width": null,
       "min_height": null,
       "min_width": null,
       "object_fit": null,
       "object_position": null,
       "order": null,
       "overflow": null,
       "overflow_x": null,
       "overflow_y": null,
       "padding": null,
       "right": null,
       "top": null,
       "visibility": null,
       "width": null
      }
     },
     "95ba17da3d6f421db4bda6fbf2b53e8f": {
      "model_module": "@jupyter-widgets/controls",
      "model_module_version": "1.5.0",
      "model_name": "ProgressStyleModel",
      "state": {
       "_model_module": "@jupyter-widgets/controls",
       "_model_module_version": "1.5.0",
       "_model_name": "ProgressStyleModel",
       "_view_count": null,
       "_view_module": "@jupyter-widgets/base",
       "_view_module_version": "1.2.0",
       "_view_name": "StyleView",
       "bar_color": null,
       "description_width": ""
      }
     },
     "98c8043f912a41ad811cf86084eb6cc8": {
      "model_module": "@jupyter-widgets/controls",
      "model_module_version": "1.5.0",
      "model_name": "FloatProgressModel",
      "state": {
       "_dom_classes": [],
       "_model_module": "@jupyter-widgets/controls",
       "_model_module_version": "1.5.0",
       "_model_name": "FloatProgressModel",
       "_view_count": null,
       "_view_module": "@jupyter-widgets/controls",
       "_view_module_version": "1.5.0",
       "_view_name": "ProgressView",
       "bar_style": "success",
       "description": "",
       "description_tooltip": null,
       "layout": "IPY_MODEL_d8e764e23fe7441fa66908e9a084cdfa",
       "max": 466062.0,
       "min": 0.0,
       "orientation": "horizontal",
       "style": "IPY_MODEL_257c9885790f421c9b191556a2cacb6b",
       "value": 466062.0
      }
     },
     "993c4f3280b5407d9ddd08bb2233e6f8": {
      "model_module": "@jupyter-widgets/controls",
      "model_module_version": "1.5.0",
      "model_name": "HTMLModel",
      "state": {
       "_dom_classes": [],
       "_model_module": "@jupyter-widgets/controls",
       "_model_module_version": "1.5.0",
       "_model_name": "HTMLModel",
       "_view_count": null,
       "_view_module": "@jupyter-widgets/controls",
       "_view_module_version": "1.5.0",
       "_view_name": "HTMLView",
       "description": "",
       "description_tooltip": null,
       "layout": "IPY_MODEL_be41d03aa30c43f6aa250c66a27f5653",
       "placeholder": "​",
       "style": "IPY_MODEL_ba302f3ca8f940e98e196bc803304edd",
       "value": "Downloading: 100%"
      }
     },
     "997f8182d52d4c61b23a79c7fbad3e23": {
      "model_module": "@jupyter-widgets/controls",
      "model_module_version": "1.5.0",
      "model_name": "ProgressStyleModel",
      "state": {
       "_model_module": "@jupyter-widgets/controls",
       "_model_module_version": "1.5.0",
       "_model_name": "ProgressStyleModel",
       "_view_count": null,
       "_view_module": "@jupyter-widgets/base",
       "_view_module_version": "1.2.0",
       "_view_name": "StyleView",
       "bar_color": null,
       "description_width": ""
      }
     },
     "9bcefd7a3e8942859d23869d5f40ba6e": {
      "model_module": "@jupyter-widgets/controls",
      "model_module_version": "1.5.0",
      "model_name": "ProgressStyleModel",
      "state": {
       "_model_module": "@jupyter-widgets/controls",
       "_model_module_version": "1.5.0",
       "_model_name": "ProgressStyleModel",
       "_view_count": null,
       "_view_module": "@jupyter-widgets/base",
       "_view_module_version": "1.2.0",
       "_view_name": "StyleView",
       "bar_color": null,
       "description_width": ""
      }
     },
     "9da36f131721494990c1899da39e1dc3": {
      "model_module": "@jupyter-widgets/controls",
      "model_module_version": "1.5.0",
      "model_name": "DescriptionStyleModel",
      "state": {
       "_model_module": "@jupyter-widgets/controls",
       "_model_module_version": "1.5.0",
       "_model_name": "DescriptionStyleModel",
       "_view_count": null,
       "_view_module": "@jupyter-widgets/base",
       "_view_module_version": "1.2.0",
       "_view_name": "StyleView",
       "description_width": ""
      }
     },
     "9e075e66057041d79c225b850d6552ec": {
      "model_module": "@jupyter-widgets/base",
      "model_module_version": "1.2.0",
      "model_name": "LayoutModel",
      "state": {
       "_model_module": "@jupyter-widgets/base",
       "_model_module_version": "1.2.0",
       "_model_name": "LayoutModel",
       "_view_count": null,
       "_view_module": "@jupyter-widgets/base",
       "_view_module_version": "1.2.0",
       "_view_name": "LayoutView",
       "align_content": null,
       "align_items": null,
       "align_self": null,
       "border": null,
       "bottom": null,
       "display": null,
       "flex": null,
       "flex_flow": null,
       "grid_area": null,
       "grid_auto_columns": null,
       "grid_auto_flow": null,
       "grid_auto_rows": null,
       "grid_column": null,
       "grid_gap": null,
       "grid_row": null,
       "grid_template_areas": null,
       "grid_template_columns": null,
       "grid_template_rows": null,
       "height": null,
       "justify_content": null,
       "justify_items": null,
       "left": null,
       "margin": null,
       "max_height": null,
       "max_width": null,
       "min_height": null,
       "min_width": null,
       "object_fit": null,
       "object_position": null,
       "order": null,
       "overflow": null,
       "overflow_x": null,
       "overflow_y": null,
       "padding": null,
       "right": null,
       "top": null,
       "visibility": null,
       "width": null
      }
     },
     "a17cfd134e5543c4a6ed82d2682a71f1": {
      "model_module": "@jupyter-widgets/controls",
      "model_module_version": "1.5.0",
      "model_name": "HBoxModel",
      "state": {
       "_dom_classes": [],
       "_model_module": "@jupyter-widgets/controls",
       "_model_module_version": "1.5.0",
       "_model_name": "HBoxModel",
       "_view_count": null,
       "_view_module": "@jupyter-widgets/controls",
       "_view_module_version": "1.5.0",
       "_view_name": "HBoxView",
       "box_style": "",
       "children": [
        "IPY_MODEL_b7de10fc7e9e489894475c49f39bba86",
        "IPY_MODEL_2c612468e7e34d79a92831be1d36a70a",
        "IPY_MODEL_378fc2a10d214814b3053099f2419fcb"
       ],
       "layout": "IPY_MODEL_9e075e66057041d79c225b850d6552ec"
      }
     },
     "a7bb45092774430e9d34631ab38f77ce": {
      "model_module": "@jupyter-widgets/base",
      "model_module_version": "1.2.0",
      "model_name": "LayoutModel",
      "state": {
       "_model_module": "@jupyter-widgets/base",
       "_model_module_version": "1.2.0",
       "_model_name": "LayoutModel",
       "_view_count": null,
       "_view_module": "@jupyter-widgets/base",
       "_view_module_version": "1.2.0",
       "_view_name": "LayoutView",
       "align_content": null,
       "align_items": null,
       "align_self": null,
       "border": null,
       "bottom": null,
       "display": null,
       "flex": null,
       "flex_flow": null,
       "grid_area": null,
       "grid_auto_columns": null,
       "grid_auto_flow": null,
       "grid_auto_rows": null,
       "grid_column": null,
       "grid_gap": null,
       "grid_row": null,
       "grid_template_areas": null,
       "grid_template_columns": null,
       "grid_template_rows": null,
       "height": null,
       "justify_content": null,
       "justify_items": null,
       "left": null,
       "margin": null,
       "max_height": null,
       "max_width": null,
       "min_height": null,
       "min_width": null,
       "object_fit": null,
       "object_position": null,
       "order": null,
       "overflow": null,
       "overflow_x": null,
       "overflow_y": null,
       "padding": null,
       "right": null,
       "top": null,
       "visibility": null,
       "width": null
      }
     },
     "b0fa8239915140fbadf43066322de268": {
      "model_module": "@jupyter-widgets/base",
      "model_module_version": "1.2.0",
      "model_name": "LayoutModel",
      "state": {
       "_model_module": "@jupyter-widgets/base",
       "_model_module_version": "1.2.0",
       "_model_name": "LayoutModel",
       "_view_count": null,
       "_view_module": "@jupyter-widgets/base",
       "_view_module_version": "1.2.0",
       "_view_name": "LayoutView",
       "align_content": null,
       "align_items": null,
       "align_self": null,
       "border": null,
       "bottom": null,
       "display": null,
       "flex": null,
       "flex_flow": null,
       "grid_area": null,
       "grid_auto_columns": null,
       "grid_auto_flow": null,
       "grid_auto_rows": null,
       "grid_column": null,
       "grid_gap": null,
       "grid_row": null,
       "grid_template_areas": null,
       "grid_template_columns": null,
       "grid_template_rows": null,
       "height": null,
       "justify_content": null,
       "justify_items": null,
       "left": null,
       "margin": null,
       "max_height": null,
       "max_width": null,
       "min_height": null,
       "min_width": null,
       "object_fit": null,
       "object_position": null,
       "order": null,
       "overflow": null,
       "overflow_x": null,
       "overflow_y": null,
       "padding": null,
       "right": null,
       "top": null,
       "visibility": null,
       "width": null
      }
     },
     "b7de10fc7e9e489894475c49f39bba86": {
      "model_module": "@jupyter-widgets/controls",
      "model_module_version": "1.5.0",
      "model_name": "HTMLModel",
      "state": {
       "_dom_classes": [],
       "_model_module": "@jupyter-widgets/controls",
       "_model_module_version": "1.5.0",
       "_model_name": "HTMLModel",
       "_view_count": null,
       "_view_module": "@jupyter-widgets/controls",
       "_view_module_version": "1.5.0",
       "_view_name": "HTMLView",
       "description": "",
       "description_tooltip": null,
       "layout": "IPY_MODEL_584dcb3b93a2473eaed31887d76a9292",
       "placeholder": "​",
       "style": "IPY_MODEL_e7adaef72c6641158531f05e25a3326f",
       "value": "Downloading: 100%"
      }
     },
     "ba302f3ca8f940e98e196bc803304edd": {
      "model_module": "@jupyter-widgets/controls",
      "model_module_version": "1.5.0",
      "model_name": "DescriptionStyleModel",
      "state": {
       "_model_module": "@jupyter-widgets/controls",
       "_model_module_version": "1.5.0",
       "_model_name": "DescriptionStyleModel",
       "_view_count": null,
       "_view_module": "@jupyter-widgets/base",
       "_view_module_version": "1.2.0",
       "_view_name": "StyleView",
       "description_width": ""
      }
     },
     "bd06e440f2484b529cc8e6bdef5638cf": {
      "model_module": "@jupyter-widgets/controls",
      "model_module_version": "1.5.0",
      "model_name": "HBoxModel",
      "state": {
       "_dom_classes": [],
       "_model_module": "@jupyter-widgets/controls",
       "_model_module_version": "1.5.0",
       "_model_name": "HBoxModel",
       "_view_count": null,
       "_view_module": "@jupyter-widgets/controls",
       "_view_module_version": "1.5.0",
       "_view_name": "HBoxView",
       "box_style": "",
       "children": [
        "IPY_MODEL_57f3ae5a1ff94246ac734963f77f9113",
        "IPY_MODEL_19422b9f928a416cb1cd669ddcaac869",
        "IPY_MODEL_7496d9376abd40bb9b034c38caf95991"
       ],
       "layout": "IPY_MODEL_a7bb45092774430e9d34631ab38f77ce"
      }
     },
     "bd671f3c173d4db88ff53197f70251b5": {
      "model_module": "@jupyter-widgets/controls",
      "model_module_version": "1.5.0",
      "model_name": "DescriptionStyleModel",
      "state": {
       "_model_module": "@jupyter-widgets/controls",
       "_model_module_version": "1.5.0",
       "_model_name": "DescriptionStyleModel",
       "_view_count": null,
       "_view_module": "@jupyter-widgets/base",
       "_view_module_version": "1.2.0",
       "_view_name": "StyleView",
       "description_width": ""
      }
     },
     "be41d03aa30c43f6aa250c66a27f5653": {
      "model_module": "@jupyter-widgets/base",
      "model_module_version": "1.2.0",
      "model_name": "LayoutModel",
      "state": {
       "_model_module": "@jupyter-widgets/base",
       "_model_module_version": "1.2.0",
       "_model_name": "LayoutModel",
       "_view_count": null,
       "_view_module": "@jupyter-widgets/base",
       "_view_module_version": "1.2.0",
       "_view_name": "LayoutView",
       "align_content": null,
       "align_items": null,
       "align_self": null,
       "border": null,
       "bottom": null,
       "display": null,
       "flex": null,
       "flex_flow": null,
       "grid_area": null,
       "grid_auto_columns": null,
       "grid_auto_flow": null,
       "grid_auto_rows": null,
       "grid_column": null,
       "grid_gap": null,
       "grid_row": null,
       "grid_template_areas": null,
       "grid_template_columns": null,
       "grid_template_rows": null,
       "height": null,
       "justify_content": null,
       "justify_items": null,
       "left": null,
       "margin": null,
       "max_height": null,
       "max_width": null,
       "min_height": null,
       "min_width": null,
       "object_fit": null,
       "object_position": null,
       "order": null,
       "overflow": null,
       "overflow_x": null,
       "overflow_y": null,
       "padding": null,
       "right": null,
       "top": null,
       "visibility": null,
       "width": null
      }
     },
     "cf23e03193d34be1b39f907a841f1a29": {
      "model_module": "@jupyter-widgets/controls",
      "model_module_version": "1.5.0",
      "model_name": "DescriptionStyleModel",
      "state": {
       "_model_module": "@jupyter-widgets/controls",
       "_model_module_version": "1.5.0",
       "_model_name": "DescriptionStyleModel",
       "_view_count": null,
       "_view_module": "@jupyter-widgets/base",
       "_view_module_version": "1.2.0",
       "_view_name": "StyleView",
       "description_width": ""
      }
     },
     "d66dc7268a5f4db4b13203295a2e3638": {
      "model_module": "@jupyter-widgets/controls",
      "model_module_version": "1.5.0",
      "model_name": "FloatProgressModel",
      "state": {
       "_dom_classes": [],
       "_model_module": "@jupyter-widgets/controls",
       "_model_module_version": "1.5.0",
       "_model_name": "FloatProgressModel",
       "_view_count": null,
       "_view_module": "@jupyter-widgets/controls",
       "_view_module_version": "1.5.0",
       "_view_name": "ProgressView",
       "bar_style": "success",
       "description": "",
       "description_tooltip": null,
       "layout": "IPY_MODEL_e9b9deb73e724ba8b2134ac773ed28ce",
       "max": 570.0,
       "min": 0.0,
       "orientation": "horizontal",
       "style": "IPY_MODEL_fca5059259c34e518174a229b8a046e2",
       "value": 570.0
      }
     },
     "d67b064c729b4e2293a328c4faacdabc": {
      "model_module": "@jupyter-widgets/base",
      "model_module_version": "1.2.0",
      "model_name": "LayoutModel",
      "state": {
       "_model_module": "@jupyter-widgets/base",
       "_model_module_version": "1.2.0",
       "_model_name": "LayoutModel",
       "_view_count": null,
       "_view_module": "@jupyter-widgets/base",
       "_view_module_version": "1.2.0",
       "_view_name": "LayoutView",
       "align_content": null,
       "align_items": null,
       "align_self": null,
       "border": null,
       "bottom": null,
       "display": null,
       "flex": null,
       "flex_flow": null,
       "grid_area": null,
       "grid_auto_columns": null,
       "grid_auto_flow": null,
       "grid_auto_rows": null,
       "grid_column": null,
       "grid_gap": null,
       "grid_row": null,
       "grid_template_areas": null,
       "grid_template_columns": null,
       "grid_template_rows": null,
       "height": null,
       "justify_content": null,
       "justify_items": null,
       "left": null,
       "margin": null,
       "max_height": null,
       "max_width": null,
       "min_height": null,
       "min_width": null,
       "object_fit": null,
       "object_position": null,
       "order": null,
       "overflow": null,
       "overflow_x": null,
       "overflow_y": null,
       "padding": null,
       "right": null,
       "top": null,
       "visibility": null,
       "width": null
      }
     },
     "d8e764e23fe7441fa66908e9a084cdfa": {
      "model_module": "@jupyter-widgets/base",
      "model_module_version": "1.2.0",
      "model_name": "LayoutModel",
      "state": {
       "_model_module": "@jupyter-widgets/base",
       "_model_module_version": "1.2.0",
       "_model_name": "LayoutModel",
       "_view_count": null,
       "_view_module": "@jupyter-widgets/base",
       "_view_module_version": "1.2.0",
       "_view_name": "LayoutView",
       "align_content": null,
       "align_items": null,
       "align_self": null,
       "border": null,
       "bottom": null,
       "display": null,
       "flex": null,
       "flex_flow": null,
       "grid_area": null,
       "grid_auto_columns": null,
       "grid_auto_flow": null,
       "grid_auto_rows": null,
       "grid_column": null,
       "grid_gap": null,
       "grid_row": null,
       "grid_template_areas": null,
       "grid_template_columns": null,
       "grid_template_rows": null,
       "height": null,
       "justify_content": null,
       "justify_items": null,
       "left": null,
       "margin": null,
       "max_height": null,
       "max_width": null,
       "min_height": null,
       "min_width": null,
       "object_fit": null,
       "object_position": null,
       "order": null,
       "overflow": null,
       "overflow_x": null,
       "overflow_y": null,
       "padding": null,
       "right": null,
       "top": null,
       "visibility": null,
       "width": null
      }
     },
     "de1a1faadc54492093c5b3dd3b9346c1": {
      "model_module": "@jupyter-widgets/base",
      "model_module_version": "1.2.0",
      "model_name": "LayoutModel",
      "state": {
       "_model_module": "@jupyter-widgets/base",
       "_model_module_version": "1.2.0",
       "_model_name": "LayoutModel",
       "_view_count": null,
       "_view_module": "@jupyter-widgets/base",
       "_view_module_version": "1.2.0",
       "_view_name": "LayoutView",
       "align_content": null,
       "align_items": null,
       "align_self": null,
       "border": null,
       "bottom": null,
       "display": null,
       "flex": null,
       "flex_flow": null,
       "grid_area": null,
       "grid_auto_columns": null,
       "grid_auto_flow": null,
       "grid_auto_rows": null,
       "grid_column": null,
       "grid_gap": null,
       "grid_row": null,
       "grid_template_areas": null,
       "grid_template_columns": null,
       "grid_template_rows": null,
       "height": null,
       "justify_content": null,
       "justify_items": null,
       "left": null,
       "margin": null,
       "max_height": null,
       "max_width": null,
       "min_height": null,
       "min_width": null,
       "object_fit": null,
       "object_position": null,
       "order": null,
       "overflow": null,
       "overflow_x": null,
       "overflow_y": null,
       "padding": null,
       "right": null,
       "top": null,
       "visibility": null,
       "width": null
      }
     },
     "df1b38a5eaab44b3b7982cdd55702109": {
      "model_module": "@jupyter-widgets/controls",
      "model_module_version": "1.5.0",
      "model_name": "HBoxModel",
      "state": {
       "_dom_classes": [],
       "_model_module": "@jupyter-widgets/controls",
       "_model_module_version": "1.5.0",
       "_model_name": "HBoxModel",
       "_view_count": null,
       "_view_module": "@jupyter-widgets/controls",
       "_view_module_version": "1.5.0",
       "_view_name": "HBoxView",
       "box_style": "",
       "children": [
        "IPY_MODEL_993c4f3280b5407d9ddd08bb2233e6f8",
        "IPY_MODEL_2123dfb04bb8431e86c85361e3161895",
        "IPY_MODEL_8cf9907ecc254db692d1045c13f9266e"
       ],
       "layout": "IPY_MODEL_252f9a31382a45ac83cbb43dd44f2146"
      }
     },
     "e7adaef72c6641158531f05e25a3326f": {
      "model_module": "@jupyter-widgets/controls",
      "model_module_version": "1.5.0",
      "model_name": "DescriptionStyleModel",
      "state": {
       "_model_module": "@jupyter-widgets/controls",
       "_model_module_version": "1.5.0",
       "_model_name": "DescriptionStyleModel",
       "_view_count": null,
       "_view_module": "@jupyter-widgets/base",
       "_view_module_version": "1.2.0",
       "_view_name": "StyleView",
       "description_width": ""
      }
     },
     "e9b9deb73e724ba8b2134ac773ed28ce": {
      "model_module": "@jupyter-widgets/base",
      "model_module_version": "1.2.0",
      "model_name": "LayoutModel",
      "state": {
       "_model_module": "@jupyter-widgets/base",
       "_model_module_version": "1.2.0",
       "_model_name": "LayoutModel",
       "_view_count": null,
       "_view_module": "@jupyter-widgets/base",
       "_view_module_version": "1.2.0",
       "_view_name": "LayoutView",
       "align_content": null,
       "align_items": null,
       "align_self": null,
       "border": null,
       "bottom": null,
       "display": null,
       "flex": null,
       "flex_flow": null,
       "grid_area": null,
       "grid_auto_columns": null,
       "grid_auto_flow": null,
       "grid_auto_rows": null,
       "grid_column": null,
       "grid_gap": null,
       "grid_row": null,
       "grid_template_areas": null,
       "grid_template_columns": null,
       "grid_template_rows": null,
       "height": null,
       "justify_content": null,
       "justify_items": null,
       "left": null,
       "margin": null,
       "max_height": null,
       "max_width": null,
       "min_height": null,
       "min_width": null,
       "object_fit": null,
       "object_position": null,
       "order": null,
       "overflow": null,
       "overflow_x": null,
       "overflow_y": null,
       "padding": null,
       "right": null,
       "top": null,
       "visibility": null,
       "width": null
      }
     },
     "f18b91368d074bcbab2307b561bebd90": {
      "model_module": "@jupyter-widgets/controls",
      "model_module_version": "1.5.0",
      "model_name": "HBoxModel",
      "state": {
       "_dom_classes": [],
       "_model_module": "@jupyter-widgets/controls",
       "_model_module_version": "1.5.0",
       "_model_name": "HBoxModel",
       "_view_count": null,
       "_view_module": "@jupyter-widgets/controls",
       "_view_module_version": "1.5.0",
       "_view_name": "HBoxView",
       "box_style": "",
       "children": [
        "IPY_MODEL_604316c6253445258923fa01f3954bcc",
        "IPY_MODEL_d66dc7268a5f4db4b13203295a2e3638",
        "IPY_MODEL_776ce2a1e8484914a2d05e1eda48db78"
       ],
       "layout": "IPY_MODEL_6d945576c97f47b0b530b6c2925e7e62"
      }
     },
     "fb6776f394be43e7a63c820485aaa4c5": {
      "model_module": "@jupyter-widgets/base",
      "model_module_version": "1.2.0",
      "model_name": "LayoutModel",
      "state": {
       "_model_module": "@jupyter-widgets/base",
       "_model_module_version": "1.2.0",
       "_model_name": "LayoutModel",
       "_view_count": null,
       "_view_module": "@jupyter-widgets/base",
       "_view_module_version": "1.2.0",
       "_view_name": "LayoutView",
       "align_content": null,
       "align_items": null,
       "align_self": null,
       "border": null,
       "bottom": null,
       "display": null,
       "flex": null,
       "flex_flow": null,
       "grid_area": null,
       "grid_auto_columns": null,
       "grid_auto_flow": null,
       "grid_auto_rows": null,
       "grid_column": null,
       "grid_gap": null,
       "grid_row": null,
       "grid_template_areas": null,
       "grid_template_columns": null,
       "grid_template_rows": null,
       "height": null,
       "justify_content": null,
       "justify_items": null,
       "left": null,
       "margin": null,
       "max_height": null,
       "max_width": null,
       "min_height": null,
       "min_width": null,
       "object_fit": null,
       "object_position": null,
       "order": null,
       "overflow": null,
       "overflow_x": null,
       "overflow_y": null,
       "padding": null,
       "right": null,
       "top": null,
       "visibility": null,
       "width": null
      }
     },
     "fca5059259c34e518174a229b8a046e2": {
      "model_module": "@jupyter-widgets/controls",
      "model_module_version": "1.5.0",
      "model_name": "ProgressStyleModel",
      "state": {
       "_model_module": "@jupyter-widgets/controls",
       "_model_module_version": "1.5.0",
       "_model_name": "ProgressStyleModel",
       "_view_count": null,
       "_view_module": "@jupyter-widgets/base",
       "_view_module_version": "1.2.0",
       "_view_name": "StyleView",
       "bar_color": null,
       "description_width": ""
      }
     },
     "fe92af61f089458fa6c721dc5b94759f": {
      "model_module": "@jupyter-widgets/base",
      "model_module_version": "1.2.0",
      "model_name": "LayoutModel",
      "state": {
       "_model_module": "@jupyter-widgets/base",
       "_model_module_version": "1.2.0",
       "_model_name": "LayoutModel",
       "_view_count": null,
       "_view_module": "@jupyter-widgets/base",
       "_view_module_version": "1.2.0",
       "_view_name": "LayoutView",
       "align_content": null,
       "align_items": null,
       "align_self": null,
       "border": null,
       "bottom": null,
       "display": null,
       "flex": null,
       "flex_flow": null,
       "grid_area": null,
       "grid_auto_columns": null,
       "grid_auto_flow": null,
       "grid_auto_rows": null,
       "grid_column": null,
       "grid_gap": null,
       "grid_row": null,
       "grid_template_areas": null,
       "grid_template_columns": null,
       "grid_template_rows": null,
       "height": null,
       "justify_content": null,
       "justify_items": null,
       "left": null,
       "margin": null,
       "max_height": null,
       "max_width": null,
       "min_height": null,
       "min_width": null,
       "object_fit": null,
       "object_position": null,
       "order": null,
       "overflow": null,
       "overflow_x": null,
       "overflow_y": null,
       "padding": null,
       "right": null,
       "top": null,
       "visibility": null,
       "width": null
      }
     }
    },
    "version_major": 2,
    "version_minor": 0
   }
  }
 },
 "nbformat": 4,
 "nbformat_minor": 5
}
